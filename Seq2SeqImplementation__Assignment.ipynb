{
 "cells": [
  {
   "cell_type": "markdown",
   "metadata": {
    "id": "fwPL0hIlGKoA"
   },
   "source": [
    "# Seq2Seq Machine Translation"
   ]
  },
  {
   "cell_type": "markdown",
   "metadata": {
    "id": "QyfZo8fmLOec"
   },
   "source": [
    "## Simple Encoder and Decoder"
   ]
  },
  {
   "cell_type": "markdown",
   "metadata": {},
   "source": [
    "Under this section we will be implementing a simple encoder-decoder model for translating italian sequences to english sequences."
   ]
  },
  {
   "cell_type": "code",
   "execution_count": null,
   "metadata": {
    "id": "o9F8cUsbBp8Q"
   },
   "outputs": [],
   "source": [
    "# importing required libraries\n",
    "import numpy as np\n",
    "import pandas as pd\n",
    "import tensorflow as tf\n",
    "import matplotlib.pyplot as plt\n",
    "import seaborn as sns\n",
    "import warnings\n",
    "warnings.filterwarnings(\"ignore\")"
   ]
  },
  {
   "cell_type": "markdown",
   "metadata": {},
   "source": [
    "### Loading Data"
   ]
  },
  {
   "cell_type": "code",
   "execution_count": null,
   "metadata": {
    "colab": {
     "base_uri": "https://localhost:8080/"
    },
    "id": "fU80Ao-AGaob",
    "outputId": "ec7d02b9-5b3b-45c3-d4f2-356ba23b678a"
   },
   "outputs": [
    {
     "name": "stdout",
     "output_type": "stream",
     "text": [
      "--2021-06-19 11:30:01--  http://www.manythings.org/anki/ita-eng.zip\n",
      "Resolving www.manythings.org (www.manythings.org)... 172.67.173.198, 104.21.55.222, 2606:4700:3036::ac43:adc6, ...\n",
      "Connecting to www.manythings.org (www.manythings.org)|172.67.173.198|:80... connected.\n",
      "HTTP request sent, awaiting response... 200 OK\n",
      "Length: 7645726 (7.3M) [application/zip]\n",
      "Saving to: ‘ita-eng.zip’\n",
      "\n",
      "ita-eng.zip         100%[===================>]   7.29M  11.4MB/s    in 0.6s    \n",
      "\n",
      "2021-06-19 11:30:02 (11.4 MB/s) - ‘ita-eng.zip’ saved [7645726/7645726]\n",
      "\n",
      "Archive:  ita-eng.zip\n",
      "  inflating: ita.txt                 \n",
      "  inflating: _about.txt              \n"
     ]
    }
   ],
   "source": [
    "# loading and unzipping the data\n",
    "!wget http://www.manythings.org/anki/ita-eng.zip\n",
    "!unzip ita-eng.zip"
   ]
  },
  {
   "cell_type": "code",
   "execution_count": null,
   "metadata": {
    "colab": {
     "base_uri": "https://localhost:8080/",
     "height": 204
    },
    "id": "t7WTbo3QAcr4",
    "outputId": "424ce853-94a3-4c15-e1b0-ca3644b364bb"
   },
   "outputs": [
    {
     "data": {
      "text/html": [
       "<div>\n",
       "<style scoped>\n",
       "    .dataframe tbody tr th:only-of-type {\n",
       "        vertical-align: middle;\n",
       "    }\n",
       "\n",
       "    .dataframe tbody tr th {\n",
       "        vertical-align: top;\n",
       "    }\n",
       "\n",
       "    .dataframe thead th {\n",
       "        text-align: right;\n",
       "    }\n",
       "</style>\n",
       "<table border=\"1\" class=\"dataframe\">\n",
       "  <thead>\n",
       "    <tr style=\"text-align: right;\">\n",
       "      <th></th>\n",
       "      <th>eng</th>\n",
       "      <th>itl</th>\n",
       "    </tr>\n",
       "  </thead>\n",
       "  <tbody>\n",
       "    <tr>\n",
       "      <th>0</th>\n",
       "      <td>Hi.</td>\n",
       "      <td>Ciao!</td>\n",
       "    </tr>\n",
       "    <tr>\n",
       "      <th>1</th>\n",
       "      <td>Run!</td>\n",
       "      <td>Corri!</td>\n",
       "    </tr>\n",
       "    <tr>\n",
       "      <th>2</th>\n",
       "      <td>Run!</td>\n",
       "      <td>Corra!</td>\n",
       "    </tr>\n",
       "    <tr>\n",
       "      <th>3</th>\n",
       "      <td>Run!</td>\n",
       "      <td>Correte!</td>\n",
       "    </tr>\n",
       "    <tr>\n",
       "      <th>4</th>\n",
       "      <td>Who?</td>\n",
       "      <td>Chi?</td>\n",
       "    </tr>\n",
       "  </tbody>\n",
       "</table>\n",
       "</div>"
      ],
      "text/plain": [
       "    eng       itl\n",
       "0   Hi.     Ciao!\n",
       "1  Run!    Corri!\n",
       "2  Run!    Corra!\n",
       "3  Run!  Correte!\n",
       "4  Who?      Chi?"
      ]
     },
     "execution_count": 3,
     "metadata": {
      "tags": []
     },
     "output_type": "execute_result"
    }
   ],
   "source": [
    "# reading the data and saving as df \n",
    "\n",
    "with open(\"/content/ita.txt\",mode=\"r\") as file:\n",
    "\n",
    "    eng_txt = []\n",
    "    itl_txt = []\n",
    "\n",
    "    # extracting the english and italian texts\n",
    "    for line in file.readlines():\n",
    "        eng_txt.append(line.split(\"\\t\")[0])\n",
    "        itl_txt.append(line.split(\"\\t\")[1])\n",
    "\n",
    "df = pd.DataFrame(data={\"eng\":eng_txt,\"itl\":itl_txt})\n",
    "df.head()    "
   ]
  },
  {
   "cell_type": "code",
   "execution_count": null,
   "metadata": {
    "colab": {
     "base_uri": "https://localhost:8080/"
    },
    "id": "15fK87gXCVpi",
    "outputId": "9c6c9041-2302-4450-ae2a-b04c0742fa29"
   },
   "outputs": [
    {
     "name": "stdout",
     "output_type": "stream",
     "text": [
      "Shape of Data: (348324, 2)\n"
     ]
    }
   ],
   "source": [
    "# shape of data\n",
    "print(f\"Shape of Data: {df.shape}\") "
   ]
  },
  {
   "cell_type": "markdown",
   "metadata": {
    "id": "vmGWTdRmKRph"
   },
   "source": [
    "### Processing Data"
   ]
  },
  {
   "cell_type": "code",
   "execution_count": null,
   "metadata": {
    "id": "9QqElB_nKZos"
   },
   "outputs": [],
   "source": [
    "# Functions to process eng and itl text data\n",
    "# references:\n",
    "# https://stackoverflow.com/questions/19790188/expanding-english-language-contractions-in-python/47091490#47091490\n",
    "# https://gist.github.com/anandborad/d410a49a493b56dace4f814ab5325bbd\n",
    "\n",
    "import re\n",
    "\n",
    "def decontractions(phrase):\n",
    "    '''\n",
    "    Function to expand deconctracted words\n",
    "    '''\n",
    "    \n",
    "    # specific\n",
    "    phrase = re.sub(r\"won\\'t\", \"will not\", phrase)\n",
    "    phrase = re.sub(r\"can\\'t\", \"can not\", phrase)\n",
    "    phrase = re.sub(r\"won\\’t\", \"will not\", phrase)\n",
    "    phrase = re.sub(r\"can\\’t\", \"can not\", phrase)\n",
    "\n",
    "    # general\n",
    "    phrase = re.sub(r\"n\\'t\", \" not\", phrase)\n",
    "    phrase = re.sub(r\"\\'re\", \" are\", phrase)\n",
    "    phrase = re.sub(r\"\\'s\", \" is\", phrase)\n",
    "    phrase = re.sub(r\"\\'d\", \" would\", phrase)\n",
    "    phrase = re.sub(r\"\\'ll\", \" will\", phrase)\n",
    "    phrase = re.sub(r\"\\'t\", \" not\", phrase)\n",
    "    phrase = re.sub(r\"\\'ve\", \" have\", phrase)\n",
    "    phrase = re.sub(r\"\\'m\", \" am\", phrase)\n",
    "\n",
    "    phrase = re.sub(r\"n\\’t\", \" not\", phrase)\n",
    "    phrase = re.sub(r\"\\’re\", \" are\", phrase)\n",
    "    phrase = re.sub(r\"\\’s\", \" is\", phrase)\n",
    "    phrase = re.sub(r\"\\’d\", \" would\", phrase)\n",
    "    phrase = re.sub(r\"\\’ll\", \" will\", phrase)\n",
    "    phrase = re.sub(r\"\\’t\", \" not\", phrase)\n",
    "    phrase = re.sub(r\"\\’ve\", \" have\", phrase)\n",
    "    phrase = re.sub(r\"\\’m\", \" am\", phrase)\n",
    "\n",
    "    return phrase\n",
    "\n",
    "def eng_preprocess(text):\n",
    "    '''\n",
    "    Function to preprocess english texts by converting them to lower characters, performing\n",
    "    decontractions and removing special characters.\n",
    "    '''\n",
    "    text = text.lower()\n",
    "    text = decontractions(text)\n",
    "    text = re.sub('[^A-Za-z0-9 ]+', '', text)\n",
    "    return text\n",
    "\n",
    "def itl_preprocess(text):\n",
    "    '''\n",
    "    Function to preprocess italian texts by converting them to lower case and removing\n",
    "    special characters\n",
    "    '''\n",
    "       \n",
    "    text = text.lower()\n",
    "    text = re.sub('[$)\\?\"’.°!;\\'€%:,(/]', '', text)\n",
    "    text = re.sub('\\u200b', ' ', text)\n",
    "    text = re.sub('\\xa0', ' ', text)\n",
    "    text = re.sub('-', ' ', text)\n",
    "    return text"
   ]
  },
  {
   "cell_type": "code",
   "execution_count": null,
   "metadata": {
    "colab": {
     "base_uri": "https://localhost:8080/",
     "height": 204
    },
    "id": "XONQT1VkG0d5",
    "outputId": "9a787450-dc2b-4c05-fbfc-5bf6b060e589"
   },
   "outputs": [
    {
     "data": {
      "text/html": [
       "<div>\n",
       "<style scoped>\n",
       "    .dataframe tbody tr th:only-of-type {\n",
       "        vertical-align: middle;\n",
       "    }\n",
       "\n",
       "    .dataframe tbody tr th {\n",
       "        vertical-align: top;\n",
       "    }\n",
       "\n",
       "    .dataframe thead th {\n",
       "        text-align: right;\n",
       "    }\n",
       "</style>\n",
       "<table border=\"1\" class=\"dataframe\">\n",
       "  <thead>\n",
       "    <tr style=\"text-align: right;\">\n",
       "      <th></th>\n",
       "      <th>eng</th>\n",
       "      <th>itl</th>\n",
       "    </tr>\n",
       "  </thead>\n",
       "  <tbody>\n",
       "    <tr>\n",
       "      <th>0</th>\n",
       "      <td>hi</td>\n",
       "      <td>ciao</td>\n",
       "    </tr>\n",
       "    <tr>\n",
       "      <th>1</th>\n",
       "      <td>run</td>\n",
       "      <td>corri</td>\n",
       "    </tr>\n",
       "    <tr>\n",
       "      <th>2</th>\n",
       "      <td>run</td>\n",
       "      <td>corra</td>\n",
       "    </tr>\n",
       "    <tr>\n",
       "      <th>3</th>\n",
       "      <td>run</td>\n",
       "      <td>correte</td>\n",
       "    </tr>\n",
       "    <tr>\n",
       "      <th>4</th>\n",
       "      <td>who</td>\n",
       "      <td>chi</td>\n",
       "    </tr>\n",
       "  </tbody>\n",
       "</table>\n",
       "</div>"
      ],
      "text/plain": [
       "   eng      itl\n",
       "0   hi     ciao\n",
       "1  run    corri\n",
       "2  run    corra\n",
       "3  run  correte\n",
       "4  who      chi"
      ]
     },
     "execution_count": 6,
     "metadata": {
      "tags": []
     },
     "output_type": "execute_result"
    }
   ],
   "source": [
    "# applying preprocessing functions\n",
    "df['eng'] = df['eng'].apply(eng_preprocess)\n",
    "df['itl'] = df['itl'].apply(itl_preprocess)\n",
    "df.head()"
   ]
  },
  {
   "cell_type": "code",
   "execution_count": null,
   "metadata": {
    "colab": {
     "base_uri": "https://localhost:8080/",
     "height": 204
    },
    "id": "fThgla83HY0p",
    "outputId": "e5419c68-0180-4d82-eda3-315745f6b5b9"
   },
   "outputs": [
    {
     "data": {
      "text/html": [
       "<div>\n",
       "<style scoped>\n",
       "    .dataframe tbody tr th:only-of-type {\n",
       "        vertical-align: middle;\n",
       "    }\n",
       "\n",
       "    .dataframe tbody tr th {\n",
       "        vertical-align: top;\n",
       "    }\n",
       "\n",
       "    .dataframe thead th {\n",
       "        text-align: right;\n",
       "    }\n",
       "</style>\n",
       "<table border=\"1\" class=\"dataframe\">\n",
       "  <thead>\n",
       "    <tr style=\"text-align: right;\">\n",
       "      <th></th>\n",
       "      <th>eng</th>\n",
       "      <th>itl</th>\n",
       "      <th>eng_len</th>\n",
       "      <th>itl_len</th>\n",
       "    </tr>\n",
       "  </thead>\n",
       "  <tbody>\n",
       "    <tr>\n",
       "      <th>0</th>\n",
       "      <td>hi</td>\n",
       "      <td>ciao</td>\n",
       "      <td>1</td>\n",
       "      <td>1</td>\n",
       "    </tr>\n",
       "    <tr>\n",
       "      <th>1</th>\n",
       "      <td>run</td>\n",
       "      <td>corri</td>\n",
       "      <td>1</td>\n",
       "      <td>1</td>\n",
       "    </tr>\n",
       "    <tr>\n",
       "      <th>2</th>\n",
       "      <td>run</td>\n",
       "      <td>corra</td>\n",
       "      <td>1</td>\n",
       "      <td>1</td>\n",
       "    </tr>\n",
       "    <tr>\n",
       "      <th>3</th>\n",
       "      <td>run</td>\n",
       "      <td>correte</td>\n",
       "      <td>1</td>\n",
       "      <td>1</td>\n",
       "    </tr>\n",
       "    <tr>\n",
       "      <th>4</th>\n",
       "      <td>who</td>\n",
       "      <td>chi</td>\n",
       "      <td>1</td>\n",
       "      <td>1</td>\n",
       "    </tr>\n",
       "  </tbody>\n",
       "</table>\n",
       "</div>"
      ],
      "text/plain": [
       "   eng      itl  eng_len  itl_len\n",
       "0   hi     ciao        1        1\n",
       "1  run    corri        1        1\n",
       "2  run    corra        1        1\n",
       "3  run  correte        1        1\n",
       "4  who      chi        1        1"
      ]
     },
     "execution_count": 7,
     "metadata": {
      "tags": []
     },
     "output_type": "execute_result"
    }
   ],
   "source": [
    "# length of text\n",
    "df['eng_len'] = df['eng'].apply(lambda x: len(x.split()))\n",
    "df['itl_len'] = df['itl'].apply(lambda x: len(x.split()))\n",
    "\n",
    "df.head()"
   ]
  },
  {
   "cell_type": "code",
   "execution_count": null,
   "metadata": {
    "colab": {
     "base_uri": "https://localhost:8080/"
    },
    "id": "M95wBbTNIIFR",
    "outputId": "657f74dd-dd0f-4492-aa52-394e9ae2287c"
   },
   "outputs": [
    {
     "name": "stdout",
     "output_type": "stream",
     "text": [
      "0 Percentile Value: 1.0\n",
      "10 Percentile Value: 4.0\n",
      "20 Percentile Value: 4.0\n",
      "30 Percentile Value: 5.0\n",
      "40 Percentile Value: 5.0\n",
      "50 Percentile Value: 6.0\n",
      "60 Percentile Value: 6.0\n",
      "70 Percentile Value: 7.0\n",
      "80 Percentile Value: 7.0\n",
      "90 Percentile Value: 8.0\n",
      "100 Percentile Value: 101.0\n"
     ]
    }
   ],
   "source": [
    "# analysing sequence length percentiles\n",
    "# english texts\n",
    "\n",
    "# percentile values between 0 to 100 with step of 10\n",
    "for i in range(0,110,10):\n",
    "     val = np.percentile(df['eng_len'],i)\n",
    "     print(f\"{i} Percentile Value: {val}\")\n"
   ]
  },
  {
   "cell_type": "code",
   "execution_count": null,
   "metadata": {
    "colab": {
     "base_uri": "https://localhost:8080/"
    },
    "id": "J3Hk_wbNJ8vF",
    "outputId": "580282cc-7dd9-481f-8b95-2e2bc17c4ffe"
   },
   "outputs": [
    {
     "name": "stdout",
     "output_type": "stream",
     "text": [
      "90 Percentile Value: 8.0\n",
      "91 Percentile Value: 9.0\n",
      "92 Percentile Value: 9.0\n",
      "93 Percentile Value: 9.0\n",
      "94 Percentile Value: 9.0\n",
      "95 Percentile Value: 9.0\n",
      "96 Percentile Value: 10.0\n",
      "97 Percentile Value: 10.0\n",
      "98 Percentile Value: 11.0\n",
      "99 Percentile Value: 12.0\n",
      "100 Percentile Value: 101.0\n"
     ]
    }
   ],
   "source": [
    "# zooming in the range of 90 to 100\n",
    "\n",
    "for i in range(90,101,1):\n",
    "     val = np.percentile(df['eng_len'],i)\n",
    "     print(f\"{i} Percentile Value: {val}\")"
   ]
  },
  {
   "cell_type": "code",
   "execution_count": null,
   "metadata": {
    "colab": {
     "base_uri": "https://localhost:8080/"
    },
    "id": "i-6MpgKKKD6Q",
    "outputId": "494ae7fd-41e3-4a5d-86b3-5dc5f7a29105"
   },
   "outputs": [
    {
     "name": "stdout",
     "output_type": "stream",
     "text": [
      "99.1 Percentile Value: 12.0\n",
      "99.2 Percentile Value: 13.0\n",
      "99.3 Percentile Value: 13.0\n",
      "99.4 Percentile Value: 13.0\n",
      "99.5 Percentile Value: 14.0\n",
      "99.6 Percentile Value: 14.0\n",
      "99.7 Percentile Value: 15.0\n",
      "99.8 Percentile Value: 16.0\n",
      "99.9 Percentile Value: 21.0\n",
      "100.0 Percentile Value: 101.0\n"
     ]
    }
   ],
   "source": [
    "# further zooming in the range of 99 to 100\n",
    "\n",
    "p = 99\n",
    "for i in range(10):\n",
    "    p = round(p + 0.1, 2)\n",
    "    val = np.percentile(df['eng_len'],p)\n",
    "    print(f\"{p} Percentile Value: {val}\")"
   ]
  },
  {
   "cell_type": "code",
   "execution_count": null,
   "metadata": {
    "colab": {
     "base_uri": "https://localhost:8080/"
    },
    "id": "22wU61yoLSqT",
    "outputId": "886f870b-3b56-4199-91e9-454c8db284a3"
   },
   "outputs": [
    {
     "name": "stdout",
     "output_type": "stream",
     "text": [
      "0 Percentile Value: 1.0\n",
      "10 Percentile Value: 3.0\n",
      "20 Percentile Value: 4.0\n",
      "30 Percentile Value: 4.0\n",
      "40 Percentile Value: 5.0\n",
      "50 Percentile Value: 5.0\n",
      "60 Percentile Value: 6.0\n",
      "70 Percentile Value: 6.0\n",
      "80 Percentile Value: 7.0\n",
      "90 Percentile Value: 8.0\n",
      "100 Percentile Value: 92.0\n"
     ]
    }
   ],
   "source": [
    "# analysis sequence lengths percentiles\n",
    "# italian texts\n",
    "\n",
    "# percentile values between 0 to 100 with step of 10\n",
    "for i in range(0,110,10):\n",
    "     val = np.percentile(df['itl_len'],i)\n",
    "     print(f\"{i} Percentile Value: {val}\")"
   ]
  },
  {
   "cell_type": "code",
   "execution_count": null,
   "metadata": {
    "colab": {
     "base_uri": "https://localhost:8080/"
    },
    "id": "yc70H77VLWlQ",
    "outputId": "4294931b-e011-4d62-8e6b-0f36a92af626"
   },
   "outputs": [
    {
     "name": "stdout",
     "output_type": "stream",
     "text": [
      "90 Percentile Value: 8.0\n",
      "91 Percentile Value: 8.0\n",
      "92 Percentile Value: 8.0\n",
      "93 Percentile Value: 9.0\n",
      "94 Percentile Value: 9.0\n",
      "95 Percentile Value: 9.0\n",
      "96 Percentile Value: 10.0\n",
      "97 Percentile Value: 10.0\n",
      "98 Percentile Value: 11.0\n",
      "99 Percentile Value: 12.0\n",
      "100 Percentile Value: 92.0\n"
     ]
    }
   ],
   "source": [
    "# zooming in the range of 90 to 100\n",
    "\n",
    "for i in range(90,101,1):\n",
    "     val = np.percentile(df['itl_len'],i)\n",
    "     print(f\"{i} Percentile Value: {val}\")"
   ]
  },
  {
   "cell_type": "code",
   "execution_count": null,
   "metadata": {
    "colab": {
     "base_uri": "https://localhost:8080/"
    },
    "id": "0JTBKi8xLY_w",
    "outputId": "dc895b9f-657a-4009-977d-f7eceb102c4f"
   },
   "outputs": [
    {
     "name": "stdout",
     "output_type": "stream",
     "text": [
      "99.1 Percentile Value: 12.0\n",
      "99.2 Percentile Value: 12.0\n",
      "99.3 Percentile Value: 13.0\n",
      "99.4 Percentile Value: 13.0\n",
      "99.5 Percentile Value: 13.0\n",
      "99.6 Percentile Value: 14.0\n",
      "99.7 Percentile Value: 15.0\n",
      "99.8 Percentile Value: 16.0\n",
      "99.9 Percentile Value: 20.0\n",
      "100.0 Percentile Value: 92.0\n"
     ]
    }
   ],
   "source": [
    "p = 99\n",
    "for i in range(10):\n",
    "    p = round(p + 0.1, 2)\n",
    "    val = np.percentile(df['itl_len'],p)\n",
    "    print(f\"{p} Percentile Value: {val}\")"
   ]
  },
  {
   "cell_type": "markdown",
   "metadata": {
    "id": "efub0UjTLhq-"
   },
   "source": [
    "As observed for both italian and english sequences around 99.9% of the sequences have a length of less than or equal to 20 characters. Hence we will use 20 as the maximum length for padding/truncating for both english and italian sequences"
   ]
  },
  {
   "cell_type": "code",
   "execution_count": null,
   "metadata": {
    "colab": {
     "base_uri": "https://localhost:8080/",
     "height": 204
    },
    "id": "D3emeupBWrMZ",
    "outputId": "642c9c4a-3b2c-483f-f907-7c1fab8011c5"
   },
   "outputs": [
    {
     "data": {
      "text/html": [
       "<div>\n",
       "<style scoped>\n",
       "    .dataframe tbody tr th:only-of-type {\n",
       "        vertical-align: middle;\n",
       "    }\n",
       "\n",
       "    .dataframe tbody tr th {\n",
       "        vertical-align: top;\n",
       "    }\n",
       "\n",
       "    .dataframe thead th {\n",
       "        text-align: right;\n",
       "    }\n",
       "</style>\n",
       "<table border=\"1\" class=\"dataframe\">\n",
       "  <thead>\n",
       "    <tr style=\"text-align: right;\">\n",
       "      <th></th>\n",
       "      <th>eng</th>\n",
       "      <th>itl</th>\n",
       "      <th>eng_len</th>\n",
       "      <th>itl_len</th>\n",
       "      <th>eng_input</th>\n",
       "      <th>eng_output</th>\n",
       "    </tr>\n",
       "  </thead>\n",
       "  <tbody>\n",
       "    <tr>\n",
       "      <th>0</th>\n",
       "      <td>hi</td>\n",
       "      <td>ciao</td>\n",
       "      <td>1</td>\n",
       "      <td>1</td>\n",
       "      <td>&lt;start&gt; hi</td>\n",
       "      <td>hi &lt;end&gt;</td>\n",
       "    </tr>\n",
       "    <tr>\n",
       "      <th>1</th>\n",
       "      <td>run</td>\n",
       "      <td>corri</td>\n",
       "      <td>1</td>\n",
       "      <td>1</td>\n",
       "      <td>&lt;start&gt; run</td>\n",
       "      <td>run &lt;end&gt;</td>\n",
       "    </tr>\n",
       "    <tr>\n",
       "      <th>2</th>\n",
       "      <td>run</td>\n",
       "      <td>corra</td>\n",
       "      <td>1</td>\n",
       "      <td>1</td>\n",
       "      <td>&lt;start&gt; run</td>\n",
       "      <td>run &lt;end&gt;</td>\n",
       "    </tr>\n",
       "    <tr>\n",
       "      <th>3</th>\n",
       "      <td>run</td>\n",
       "      <td>correte</td>\n",
       "      <td>1</td>\n",
       "      <td>1</td>\n",
       "      <td>&lt;start&gt; run</td>\n",
       "      <td>run &lt;end&gt;</td>\n",
       "    </tr>\n",
       "    <tr>\n",
       "      <th>4</th>\n",
       "      <td>who</td>\n",
       "      <td>chi</td>\n",
       "      <td>1</td>\n",
       "      <td>1</td>\n",
       "      <td>&lt;start&gt; who</td>\n",
       "      <td>who &lt;end&gt;</td>\n",
       "    </tr>\n",
       "  </tbody>\n",
       "</table>\n",
       "</div>"
      ],
      "text/plain": [
       "   eng      itl  eng_len  itl_len    eng_input eng_output\n",
       "0   hi     ciao        1        1   <start> hi   hi <end>\n",
       "1  run    corri        1        1  <start> run  run <end>\n",
       "2  run    corra        1        1  <start> run  run <end>\n",
       "3  run  correte        1        1  <start> run  run <end>\n",
       "4  who      chi        1        1  <start> who  who <end>"
      ]
     },
     "execution_count": 14,
     "metadata": {
      "tags": []
     },
     "output_type": "execute_result"
    }
   ],
   "source": [
    "# creating eng_input and eng_output columns\n",
    "df['eng_input'] = df['eng'].apply(lambda x: \"<start> \" + x) \n",
    "df['eng_output'] = df['eng'].apply(lambda x: x + \" <end>\" )\n",
    "df.head()"
   ]
  },
  {
   "cell_type": "code",
   "execution_count": null,
   "metadata": {
    "colab": {
     "base_uri": "https://localhost:8080/",
     "height": 204
    },
    "id": "KQ3-lp1UWOIC",
    "outputId": "80a6e800-8b9f-4991-cf9b-000ff576df8b"
   },
   "outputs": [
    {
     "data": {
      "text/html": [
       "<div>\n",
       "<style scoped>\n",
       "    .dataframe tbody tr th:only-of-type {\n",
       "        vertical-align: middle;\n",
       "    }\n",
       "\n",
       "    .dataframe tbody tr th {\n",
       "        vertical-align: top;\n",
       "    }\n",
       "\n",
       "    .dataframe thead th {\n",
       "        text-align: right;\n",
       "    }\n",
       "</style>\n",
       "<table border=\"1\" class=\"dataframe\">\n",
       "  <thead>\n",
       "    <tr style=\"text-align: right;\">\n",
       "      <th></th>\n",
       "      <th>eng</th>\n",
       "      <th>itl</th>\n",
       "      <th>eng_len</th>\n",
       "      <th>itl_len</th>\n",
       "      <th>eng_input</th>\n",
       "      <th>eng_output</th>\n",
       "    </tr>\n",
       "  </thead>\n",
       "  <tbody>\n",
       "    <tr>\n",
       "      <th>0</th>\n",
       "      <td>&lt;start&gt; hi &lt;end&gt;</td>\n",
       "      <td>ciao</td>\n",
       "      <td>1</td>\n",
       "      <td>1</td>\n",
       "      <td>&lt;start&gt; hi</td>\n",
       "      <td>hi &lt;end&gt;</td>\n",
       "    </tr>\n",
       "    <tr>\n",
       "      <th>1</th>\n",
       "      <td>&lt;start&gt; run &lt;end&gt;</td>\n",
       "      <td>corri</td>\n",
       "      <td>1</td>\n",
       "      <td>1</td>\n",
       "      <td>&lt;start&gt; run</td>\n",
       "      <td>run &lt;end&gt;</td>\n",
       "    </tr>\n",
       "    <tr>\n",
       "      <th>2</th>\n",
       "      <td>&lt;start&gt; run &lt;end&gt;</td>\n",
       "      <td>corra</td>\n",
       "      <td>1</td>\n",
       "      <td>1</td>\n",
       "      <td>&lt;start&gt; run</td>\n",
       "      <td>run &lt;end&gt;</td>\n",
       "    </tr>\n",
       "    <tr>\n",
       "      <th>3</th>\n",
       "      <td>&lt;start&gt; run &lt;end&gt;</td>\n",
       "      <td>correte</td>\n",
       "      <td>1</td>\n",
       "      <td>1</td>\n",
       "      <td>&lt;start&gt; run</td>\n",
       "      <td>run &lt;end&gt;</td>\n",
       "    </tr>\n",
       "    <tr>\n",
       "      <th>4</th>\n",
       "      <td>&lt;start&gt; who &lt;end&gt;</td>\n",
       "      <td>chi</td>\n",
       "      <td>1</td>\n",
       "      <td>1</td>\n",
       "      <td>&lt;start&gt; who</td>\n",
       "      <td>who &lt;end&gt;</td>\n",
       "    </tr>\n",
       "  </tbody>\n",
       "</table>\n",
       "</div>"
      ],
      "text/plain": [
       "                 eng      itl  eng_len  itl_len    eng_input eng_output\n",
       "0   <start> hi <end>     ciao        1        1   <start> hi   hi <end>\n",
       "1  <start> run <end>    corri        1        1  <start> run  run <end>\n",
       "2  <start> run <end>    corra        1        1  <start> run  run <end>\n",
       "3  <start> run <end>  correte        1        1  <start> run  run <end>\n",
       "4  <start> who <end>      chi        1        1  <start> who  who <end>"
      ]
     },
     "execution_count": 15,
     "metadata": {
      "tags": []
     },
     "output_type": "execute_result"
    }
   ],
   "source": [
    "# adding <start> & <end> special characters to eng text\n",
    "df['eng'] = df['eng'].apply(lambda x: \"<start> \" + x + \" <end>\" )\n",
    "df.head()"
   ]
  },
  {
   "cell_type": "code",
   "execution_count": null,
   "metadata": {
    "colab": {
     "base_uri": "https://localhost:8080/",
     "height": 204
    },
    "id": "us23wacUXyHx",
    "outputId": "51e15005-cc67-49d5-dc85-88fca6e4ea83"
   },
   "outputs": [
    {
     "data": {
      "text/html": [
       "<div>\n",
       "<style scoped>\n",
       "    .dataframe tbody tr th:only-of-type {\n",
       "        vertical-align: middle;\n",
       "    }\n",
       "\n",
       "    .dataframe tbody tr th {\n",
       "        vertical-align: top;\n",
       "    }\n",
       "\n",
       "    .dataframe thead th {\n",
       "        text-align: right;\n",
       "    }\n",
       "</style>\n",
       "<table border=\"1\" class=\"dataframe\">\n",
       "  <thead>\n",
       "    <tr style=\"text-align: right;\">\n",
       "      <th></th>\n",
       "      <th>eng</th>\n",
       "      <th>itl</th>\n",
       "      <th>eng_input</th>\n",
       "      <th>eng_output</th>\n",
       "    </tr>\n",
       "  </thead>\n",
       "  <tbody>\n",
       "    <tr>\n",
       "      <th>0</th>\n",
       "      <td>&lt;start&gt; hi &lt;end&gt;</td>\n",
       "      <td>ciao</td>\n",
       "      <td>&lt;start&gt; hi</td>\n",
       "      <td>hi &lt;end&gt;</td>\n",
       "    </tr>\n",
       "    <tr>\n",
       "      <th>1</th>\n",
       "      <td>&lt;start&gt; run &lt;end&gt;</td>\n",
       "      <td>corri</td>\n",
       "      <td>&lt;start&gt; run</td>\n",
       "      <td>run &lt;end&gt;</td>\n",
       "    </tr>\n",
       "    <tr>\n",
       "      <th>2</th>\n",
       "      <td>&lt;start&gt; run &lt;end&gt;</td>\n",
       "      <td>corra</td>\n",
       "      <td>&lt;start&gt; run</td>\n",
       "      <td>run &lt;end&gt;</td>\n",
       "    </tr>\n",
       "    <tr>\n",
       "      <th>3</th>\n",
       "      <td>&lt;start&gt; run &lt;end&gt;</td>\n",
       "      <td>correte</td>\n",
       "      <td>&lt;start&gt; run</td>\n",
       "      <td>run &lt;end&gt;</td>\n",
       "    </tr>\n",
       "    <tr>\n",
       "      <th>4</th>\n",
       "      <td>&lt;start&gt; who &lt;end&gt;</td>\n",
       "      <td>chi</td>\n",
       "      <td>&lt;start&gt; who</td>\n",
       "      <td>who &lt;end&gt;</td>\n",
       "    </tr>\n",
       "  </tbody>\n",
       "</table>\n",
       "</div>"
      ],
      "text/plain": [
       "                 eng      itl    eng_input eng_output\n",
       "0   <start> hi <end>     ciao   <start> hi   hi <end>\n",
       "1  <start> run <end>    corri  <start> run  run <end>\n",
       "2  <start> run <end>    corra  <start> run  run <end>\n",
       "3  <start> run <end>  correte  <start> run  run <end>\n",
       "4  <start> who <end>      chi  <start> who  who <end>"
      ]
     },
     "execution_count": 16,
     "metadata": {
      "tags": []
     },
     "output_type": "execute_result"
    }
   ],
   "source": [
    "# dropping columns not required\n",
    "df.drop(labels=[\"eng_len\",\"itl_len\"],axis=1,inplace=True)\n",
    "df.head()"
   ]
  },
  {
   "cell_type": "code",
   "execution_count": null,
   "metadata": {
    "colab": {
     "base_uri": "https://localhost:8080/"
    },
    "id": "AMLrpk3NVYGb",
    "outputId": "0826823e-c5d9-4457-af19-6111f0b87780"
   },
   "outputs": [
    {
     "name": "stdout",
     "output_type": "stream",
     "text": [
      "Number of Points in Train Data: 278659\n",
      "Number of Points in Test Data: 69665\n"
     ]
    }
   ],
   "source": [
    "# splitting into train and test\n",
    "from sklearn.model_selection import train_test_split\n",
    "df_train, df_test = train_test_split(df,test_size=0.2,random_state=23)\n",
    "print(f\"Number of Points in Train Data: {df_train.shape[0]}\")\n",
    "print(f\"Number of Points in Test Data: {df_test.shape[0]}\")"
   ]
  },
  {
   "cell_type": "code",
   "execution_count": null,
   "metadata": {
    "id": "0rgYJ1a7YVWM"
   },
   "outputs": [],
   "source": [
    "# fitting tokenizer on encoder and decoder sequences\n",
    "\n",
    "from tensorflow.keras.preprocessing.text import Tokenizer\n",
    "from tensorflow.keras.preprocessing.sequence import pad_sequences\n",
    "\n",
    "tokenizer_itl = Tokenizer(num_words=None,\n",
    "                          filters='!\"#$%&()*+,-./:;_=?@[\\\\]^`{|}~\\t\\n') # filter inludes all special characters except '<>'\n",
    "\n",
    "tokenizer_itl.fit_on_texts(df_train['itl'].values)\n",
    "\n",
    "tokenizer_eng = Tokenizer(num_words=None,\n",
    "                          filters='!\"#$%&()*+,-./:;_=?@[\\\\]^`{|}~\\t\\n') # filter inludes all special characters except '<>' \n",
    "tokenizer_eng.fit_on_texts(df_train['eng'].values)"
   ]
  },
  {
   "cell_type": "code",
   "execution_count": null,
   "metadata": {
    "id": "r3i--Si6qxgg"
   },
   "outputs": [],
   "source": [
    "# data pipelines\n",
    "\n",
    "class Dataset:\n",
    "    def __init__(self, data, tknizer_ita, tknizer_eng, max_len):\n",
    "        self.encoder_inps = data['itl'].values\n",
    "        self.decoder_inps = data['eng_input'].values\n",
    "        self.decoder_outs = data['eng_output'].values\n",
    "        self.tknizer_eng = tknizer_eng\n",
    "        self.tknizer_ita = tknizer_ita\n",
    "        self.max_len = max_len\n",
    "\n",
    "    def __getitem__(self, i):\n",
    "        self.encoder_seq = self.tknizer_ita.texts_to_sequences([self.encoder_inps[i]]) # need to pass list of values\n",
    "        self.decoder_inp_seq = self.tknizer_eng.texts_to_sequences([self.decoder_inps[i]])\n",
    "        self.decoder_out_seq = self.tknizer_eng.texts_to_sequences([self.decoder_outs[i]])\n",
    "\n",
    "        self.encoder_seq = pad_sequences(self.encoder_seq, maxlen=self.max_len, dtype='int32', padding='post')\n",
    "        self.decoder_inp_seq = pad_sequences(self.decoder_inp_seq, maxlen=self.max_len, dtype='int32', padding='post')\n",
    "        self.decoder_out_seq = pad_sequences(self.decoder_out_seq, maxlen=self.max_len, dtype='int32', padding='post')\n",
    "        return self.encoder_seq, self.decoder_inp_seq, self.decoder_out_seq\n",
    "\n",
    "    def __len__(self): # model.fit_gen requires this function\n",
    "        return len(self.encoder_inps)\n",
    "\n",
    "    \n",
    "class Dataloder(tf.keras.utils.Sequence):    \n",
    "    def __init__(self, dataset, batch_size=1):\n",
    "        self.dataset = dataset\n",
    "        self.batch_size = batch_size\n",
    "        self.indexes = np.arange(len(self.dataset.encoder_inps))\n",
    "\n",
    "\n",
    "    def __getitem__(self, i):\n",
    "        start = i * self.batch_size\n",
    "        stop = (i + 1) * self.batch_size\n",
    "        data = []\n",
    "        for j in range(start, stop):\n",
    "            data.append(self.dataset[j])\n",
    "\n",
    "        batch = [np.squeeze(np.stack(samples, axis=1), axis=0) for samples in zip(*data)]\n",
    "        # creating data like ([italian, english_inp], english_out) these are already converted into seq\n",
    "        return tuple([[batch[0],batch[1]],batch[2]])\n",
    "\n",
    "    def __len__(self):  # model.fit_gen requires this function\n",
    "        return len(self.indexes) // self.batch_size\n",
    "\n",
    "    def on_epoch_end(self):\n",
    "        self.indexes = np.random.permutation(self.indexes)"
   ]
  },
  {
   "cell_type": "code",
   "execution_count": null,
   "metadata": {
    "id": "HW3MFrgNREFs"
   },
   "outputs": [],
   "source": [
    "# settin up tensorboard\n",
    "\n",
    "%load_ext tensorboard\n",
    "import datetime\n",
    "\n",
    "def tf_callback(model_num=None):\n",
    "    '''\n",
    "    This function returns a tensorboard callback object\n",
    "    '''\n",
    "    \n",
    "    # specifiying the directory structure and instantiating tensorboard callback object\n",
    "    log_dir = f\"logs/fit/{model_num}/\" + datetime.datetime.now().strftime(\"%Y%m%d-%H%M%S\")\n",
    "    cb = tf.keras.callbacks.TensorBoard(log_dir=log_dir, histogram_freq=1)\n",
    "    \n",
    "    return cb"
   ]
  },
  {
   "cell_type": "markdown",
   "metadata": {
    "id": "S8RDrP4xKabR"
   },
   "source": [
    "### Model Implementation"
   ]
  },
  {
   "cell_type": "markdown",
   "metadata": {
    "id": "A45uc0JILMlV"
   },
   "source": [
    "#### Encoder"
   ]
  },
  {
   "cell_type": "code",
   "execution_count": null,
   "metadata": {
    "id": "9cex2XfCLOew"
   },
   "outputs": [],
   "source": [
    "from tensorflow.keras.layers import LSTM\n",
    "from tensorflow.keras.layers import Embedding\n",
    "from tensorflow.keras.regularizers import l2\n",
    "from tensorflow.keras.initializers import HeNormal\n",
    "\n",
    "regularizer = l2(0.0001)\n",
    "initializer = HeNormal()\n",
    "\n",
    "class Encoder(tf.keras.layers.Layer):\n",
    "    '''\n",
    "    Encoder model -- That takes a input sequence and returns encoder-outputs,encoder_final_state_h,encoder_final_state_c\n",
    "    '''\n",
    "\n",
    "    def __init__(self,inp_vocab_size,embedding_size,lstm_size,input_length):\n",
    "\n",
    "        # initializing input variables and required layers \n",
    "\n",
    "        super().__init__()\n",
    "        self.lstm_units = lstm_size\n",
    "        self.embedding = Embedding(input_dim=inp_vocab_size,output_dim=embedding_size,input_length=input_length,\n",
    "                                   mask_zero=True)        \n",
    "        self.lstm = LSTM(units=self.lstm_units,recurrent_initializer=initializer,recurrent_regularizer=regularizer,\n",
    "                         return_sequences=True,return_state=True, dropout=0.3)\n",
    "\n",
    "\n",
    "    def call(self,input_sequence,states):\n",
    "        '''\n",
    "          This function takes a sequence input and the initial states of the encoder.\n",
    "          Pass the input_sequence input to the Embedding layer, Pass the embedding layer ouput to encoder_lstm\n",
    "          returns -- encoder_output, last time step's hidden and cell state\n",
    "        '''\n",
    "\n",
    "        # passing encoder inputs through embedding and lstm layers\n",
    "\n",
    "        embedding_vectors = self.embedding(input_sequence)\n",
    "        encoder_output, state_h, state_c = self.lstm(inputs=embedding_vectors,initial_state=states)\n",
    "\n",
    "        return encoder_output, state_h, state_c \n",
    "\n",
    "\n",
    "    def initialize_states(self,batch_size):\n",
    "      '''\n",
    "      Given a batch size it will return intial hidden state and intial cell state.\n",
    "      If batch size is 32- Hidden state is zeros of size [32,lstm_units], cell state zeros is of size [32,lstm_units]\n",
    "      '''\n",
    "      initial_h =  tf.zeros(shape=[batch_size,self.lstm_units]) # initial hidden state\n",
    "      initial_c =  tf.zeros(shape=[batch_size,self.lstm_units]) # initial cell state\n",
    "\n",
    "      return [initial_h, initial_c]"
   ]
  },
  {
   "cell_type": "code",
   "execution_count": null,
   "metadata": {
    "id": "x1ES1-sJLOe4"
   },
   "outputs": [],
   "source": [
    "class Decoder(tf.keras.layers.Layer):\n",
    "    '''\n",
    "    Encoder model -- That takes a input sequence and returns output sequence\n",
    "    '''\n",
    "\n",
    "    def __init__(self,out_vocab_size,embedding_size,lstm_size,input_length):\n",
    "\n",
    "        # initializing input variables and required layers\n",
    "        \n",
    "        super().__init__()\n",
    "        self.lstm_units = lstm_size\n",
    "        self.embedding = Embedding(input_dim=out_vocab_size, output_dim=embedding_size, mask_zero=True,\n",
    "                                   input_length=input_length)\n",
    "        self.lstm = LSTM(units=self.lstm_units, recurrent_initializer=initializer, recurrent_regularizer=regularizer,\n",
    "                        return_sequences=True, return_state=True,dropout=0.3)\n",
    "\n",
    "\n",
    "    def call(self,input_sequence,initial_states):\n",
    "        '''\n",
    "          This function takes a sequence input and the initial states of the encoder.\n",
    "          Pass the input_sequence input to the Embedding layer, Pass the embedding layer ouput to decoder_lstm\n",
    "        \n",
    "          returns -- decoder_output,decoder_final_state_h,decoder_final_state_c\n",
    "        '''\n",
    "\n",
    "        # passing decoder inputs through embedding and lstm layers \n",
    "\n",
    "        embedding_vectors = self.embedding(input_sequence)\n",
    "        decoder_output, decoder_final_state_h, decoder_final_state_c = self.lstm(inputs=embedding_vectors,initial_state=initial_states)\n",
    "\n",
    "        return decoder_output, decoder_final_state_h, decoder_final_state_c"
   ]
  },
  {
   "cell_type": "code",
   "execution_count": null,
   "metadata": {
    "id": "BXrIj4scLOe_"
   },
   "outputs": [],
   "source": [
    "from tensorflow.keras.layers import Dense\n",
    "\n",
    "encoder_max = len(tokenizer_itl.word_index) \n",
    "decoder_max = len(tokenizer_eng.word_index)\n",
    "\n",
    "class Encoder_decoder(tf.keras.Model):\n",
    "    \n",
    "    def __init__(self,batch_size):\n",
    "\n",
    "        # initialzing encoder-decoder objects and dense layer\n",
    "        super().__init__()\n",
    "        self.encoder = Encoder(encoder_max + 1,embedding_size=100,lstm_size=128,input_length=20)\n",
    "        self.decoder = Decoder(decoder_max + 1,embedding_size=100,lstm_size=128,input_length=20)\n",
    "        self.dense = Dense(decoder_max + 1,activation=\"softmax\",kernel_initializer=initializer)\n",
    "        self.batch_size = batch_size\n",
    "    \n",
    "    \n",
    "    def call(self,inputs):\n",
    "        '''\n",
    "        A. Pass the input sequence to Encoder layer -- Return encoder_output,encoder_final_state_h,encoder_final_state_c\n",
    "        B. Pass the target sequence to Decoder layer with intial states as encoder_final_state_h,encoder_final_state_C\n",
    "        C. Pass the decoder_outputs into Dense layer \n",
    "        \n",
    "        Return decoder_outputs\n",
    "        '''\n",
    "\n",
    "        encoder_input, decoder_input = inputs[0], inputs[1]\n",
    "\n",
    "        # passing input sequence to encoder\n",
    "        encoder_initial = self.encoder.initialize_states(self.batch_size)\n",
    "        encoder_output, encoder_final_state_h, encoder_final_state_c = self.encoder(encoder_input,encoder_initial)\n",
    "        states = [encoder_final_state_h, encoder_final_state_c]\n",
    "\n",
    "        # passing tagret sequence and initial states to decoder\n",
    "        decoder_output, _, _ = self.decoder(decoder_input,states)\n",
    "\n",
    "        # passing decoder output to dense layer\n",
    "        output = self.dense(decoder_output)\n",
    "\n",
    "        return output          "
   ]
  },
  {
   "cell_type": "code",
   "execution_count": null,
   "metadata": {
    "colab": {
     "base_uri": "https://localhost:8080/"
    },
    "id": "9Deqf2GxwfVH",
    "outputId": "97ada40b-3dbb-4055-c4f3-5c345c61446c"
   },
   "outputs": [
    {
     "name": "stdout",
     "output_type": "stream",
     "text": [
      "(1024, 20) (1024, 20) (1024, 20)\n"
     ]
    }
   ],
   "source": [
    "# train and test data loader\n",
    "\n",
    "train_dataset = Dataset(df_train,tokenizer_itl,tokenizer_eng,20)\n",
    "test_dataset = Dataset(df_test,tokenizer_itl,tokenizer_eng,20)\n",
    "\n",
    "train_dataloader = Dataloder(train_dataset,batch_size=1024)\n",
    "test_dataloader = Dataloder(test_dataset,batch_size=1024)\n",
    "\n",
    "print(train_dataloader[0][0][0].shape, train_dataloader[0][0][1].shape, train_dataloader[0][1].shape)"
   ]
  },
  {
   "cell_type": "code",
   "execution_count": null,
   "metadata": {
    "id": "bhP0_7jBxT8N"
   },
   "outputs": [],
   "source": [
    "# train and test steps in each epoch\n",
    "\n",
    "train_steps = df_train.shape[0] // 1024\n",
    "test_steps = df_test.shape[0] // 1024"
   ]
  },
  {
   "cell_type": "code",
   "execution_count": null,
   "metadata": {
    "id": "pphzSXfKRz3O"
   },
   "outputs": [],
   "source": [
    "# defining callbacks\n",
    "from tensorflow.keras.callbacks import EarlyStopping\n",
    "\n",
    "early_stop = EarlyStopping(monitor=\"val_loss\",patience=2,mode=\"min\")\n",
    "tensorboard = tf_callback(model_num=1)\n",
    "callbacks = [early_stop,tensorboard]"
   ]
  },
  {
   "cell_type": "code",
   "execution_count": null,
   "metadata": {
    "colab": {
     "base_uri": "https://localhost:8080/"
    },
    "id": "kcL61dJXLOfB",
    "outputId": "fb4df14d-04e8-4490-f01d-ee5bb63ff227"
   },
   "outputs": [
    {
     "name": "stdout",
     "output_type": "stream",
     "text": [
      "Epoch 1/50\n",
      "272/272 [==============================] - 71s 240ms/step - loss: 1.9120 - val_loss: 1.5043\n",
      "Epoch 2/50\n",
      "272/272 [==============================] - 63s 230ms/step - loss: 1.3457 - val_loss: 1.1993\n",
      "Epoch 3/50\n",
      "272/272 [==============================] - 63s 232ms/step - loss: 1.1127 - val_loss: 1.0025\n",
      "Epoch 4/50\n",
      "272/272 [==============================] - 63s 232ms/step - loss: 0.9469 - val_loss: 0.8561\n",
      "Epoch 5/50\n",
      "272/272 [==============================] - 63s 231ms/step - loss: 0.8213 - val_loss: 0.7431\n",
      "Epoch 6/50\n",
      "272/272 [==============================] - 63s 231ms/step - loss: 0.7225 - val_loss: 0.6547\n",
      "Epoch 7/50\n",
      "272/272 [==============================] - 63s 230ms/step - loss: 0.6428 - val_loss: 0.5828\n",
      "Epoch 8/50\n",
      "272/272 [==============================] - 63s 231ms/step - loss: 0.5784 - val_loss: 0.5272\n",
      "Epoch 9/50\n",
      "272/272 [==============================] - 63s 231ms/step - loss: 0.5260 - val_loss: 0.4826\n",
      "Epoch 10/50\n",
      "272/272 [==============================] - 63s 230ms/step - loss: 0.4833 - val_loss: 0.4454\n",
      "Epoch 11/50\n",
      "272/272 [==============================] - 62s 227ms/step - loss: 0.4478 - val_loss: 0.4162\n",
      "Epoch 12/50\n",
      "272/272 [==============================] - 62s 228ms/step - loss: 0.4180 - val_loss: 0.3902\n",
      "Epoch 13/50\n",
      "272/272 [==============================] - 62s 228ms/step - loss: 0.3927 - val_loss: 0.3710\n",
      "Epoch 14/50\n",
      "272/272 [==============================] - 62s 228ms/step - loss: 0.3707 - val_loss: 0.3524\n",
      "Epoch 15/50\n",
      "272/272 [==============================] - 62s 227ms/step - loss: 0.3520 - val_loss: 0.3384\n",
      "Epoch 16/50\n",
      "272/272 [==============================] - 62s 227ms/step - loss: 0.3357 - val_loss: 0.3248\n",
      "Epoch 17/50\n",
      "272/272 [==============================] - 62s 227ms/step - loss: 0.3212 - val_loss: 0.3129\n",
      "Epoch 18/50\n",
      "272/272 [==============================] - 62s 228ms/step - loss: 0.3082 - val_loss: 0.3032\n",
      "Epoch 19/50\n",
      "272/272 [==============================] - 61s 226ms/step - loss: 0.2961 - val_loss: 0.2938\n",
      "Epoch 20/50\n",
      "272/272 [==============================] - 62s 226ms/step - loss: 0.2859 - val_loss: 0.2864\n",
      "Epoch 21/50\n",
      "272/272 [==============================] - 62s 226ms/step - loss: 0.2766 - val_loss: 0.2788\n",
      "Epoch 22/50\n",
      "272/272 [==============================] - 62s 226ms/step - loss: 0.2682 - val_loss: 0.2733\n",
      "Epoch 23/50\n",
      "272/272 [==============================] - 62s 228ms/step - loss: 0.2604 - val_loss: 0.2679\n",
      "Epoch 24/50\n",
      "272/272 [==============================] - 62s 226ms/step - loss: 0.2536 - val_loss: 0.2614\n",
      "Epoch 25/50\n",
      "272/272 [==============================] - 62s 226ms/step - loss: 0.2468 - val_loss: 0.2562\n",
      "Epoch 26/50\n",
      "272/272 [==============================] - 61s 225ms/step - loss: 0.2407 - val_loss: 0.2518\n",
      "Epoch 27/50\n",
      "272/272 [==============================] - 61s 225ms/step - loss: 0.2352 - val_loss: 0.2479\n",
      "Epoch 28/50\n",
      "272/272 [==============================] - 61s 226ms/step - loss: 0.2301 - val_loss: 0.2445\n",
      "Epoch 29/50\n",
      "272/272 [==============================] - 61s 225ms/step - loss: 0.2255 - val_loss: 0.2411\n",
      "Epoch 30/50\n",
      "272/272 [==============================] - 61s 225ms/step - loss: 0.2209 - val_loss: 0.2380\n",
      "Epoch 31/50\n",
      "272/272 [==============================] - 61s 225ms/step - loss: 0.2168 - val_loss: 0.2349\n",
      "Epoch 32/50\n",
      "272/272 [==============================] - 62s 226ms/step - loss: 0.2132 - val_loss: 0.2330\n",
      "Epoch 33/50\n",
      "272/272 [==============================] - 61s 224ms/step - loss: 0.2093 - val_loss: 0.2310\n",
      "Epoch 34/50\n",
      "272/272 [==============================] - 61s 224ms/step - loss: 0.2060 - val_loss: 0.2283\n",
      "Epoch 35/50\n",
      "272/272 [==============================] - 61s 224ms/step - loss: 0.2026 - val_loss: 0.2269\n",
      "Epoch 36/50\n",
      "272/272 [==============================] - 61s 225ms/step - loss: 0.1997 - val_loss: 0.2251\n",
      "Epoch 37/50\n",
      "272/272 [==============================] - 61s 225ms/step - loss: 0.1966 - val_loss: 0.2228\n",
      "Epoch 38/50\n",
      "272/272 [==============================] - 61s 224ms/step - loss: 0.1941 - val_loss: 0.2209\n",
      "Epoch 39/50\n",
      "272/272 [==============================] - 61s 224ms/step - loss: 0.1915 - val_loss: 0.2197\n",
      "Epoch 40/50\n",
      "272/272 [==============================] - 61s 224ms/step - loss: 0.1891 - val_loss: 0.2174\n",
      "Epoch 41/50\n",
      "272/272 [==============================] - 61s 225ms/step - loss: 0.1867 - val_loss: 0.2160\n",
      "Epoch 42/50\n",
      "272/272 [==============================] - 61s 225ms/step - loss: 0.1845 - val_loss: 0.2155\n",
      "Epoch 43/50\n",
      "272/272 [==============================] - 61s 225ms/step - loss: 0.1826 - val_loss: 0.2139\n",
      "Epoch 44/50\n",
      "272/272 [==============================] - 61s 224ms/step - loss: 0.1802 - val_loss: 0.2129\n",
      "Epoch 45/50\n",
      "272/272 [==============================] - 61s 224ms/step - loss: 0.1782 - val_loss: 0.2111\n",
      "Epoch 46/50\n",
      "272/272 [==============================] - 62s 226ms/step - loss: 0.1766 - val_loss: 0.2103\n",
      "Epoch 47/50\n",
      "272/272 [==============================] - 61s 225ms/step - loss: 0.1749 - val_loss: 0.2095\n",
      "Epoch 48/50\n",
      "272/272 [==============================] - 61s 225ms/step - loss: 0.1732 - val_loss: 0.2084\n",
      "Epoch 49/50\n",
      "272/272 [==============================] - 61s 225ms/step - loss: 0.1715 - val_loss: 0.2084\n",
      "Epoch 50/50\n",
      "272/272 [==============================] - 61s 225ms/step - loss: 0.1699 - val_loss: 0.2072\n"
     ]
    },
    {
     "data": {
      "text/plain": [
       "<tensorflow.python.keras.callbacks.History at 0x7f94e963da90>"
      ]
     },
     "execution_count": 30,
     "metadata": {
      "tags": []
     },
     "output_type": "execute_result"
    }
   ],
   "source": [
    "# clearing backend session\n",
    "tf.keras.backend.clear_session()\n",
    "\n",
    "# compiling the model and training\n",
    "model = Encoder_decoder(batch_size=1024)\n",
    "optimizer = tf.keras.optimizers.Adam(0.001)\n",
    "model.compile(optimizer=optimizer,loss='sparse_categorical_crossentropy')\n",
    "\n",
    "# training the model\n",
    "model.fit_generator(train_dataloader,steps_per_epoch=train_steps,epochs=50,validation_data=test_dataloader,validation_steps=test_steps,callbacks=callbacks)"
   ]
  },
  {
   "cell_type": "code",
   "execution_count": null,
   "metadata": {
    "id": "kOT7wAM47lGP"
   },
   "outputs": [],
   "source": [
    "def predict(input_sentence):\n",
    "    '''\n",
    "    Function to predict the translated sentence given an input sentence\n",
    "    '''\n",
    "    # getting the context vector from the encoder\n",
    "    encoder_input = [input_sentence]\n",
    "    encoder_input = tokenizer_itl.texts_to_sequences(encoder_input)\n",
    "    encoder_input = pad_sequences(encoder_input,maxlen=20)\n",
    "    encoder_initial = model.layers[0].initialize_states(1)\n",
    "    encoder_output, state_h, state_c = model.layers[0](encoder_input,encoder_initial)\n",
    "    states = [state_h,state_c]\n",
    "\n",
    "    # initializing first word as <start> for the decoder\n",
    "    cur_word = \"<start>\"\n",
    "    pred_sentence = \"\"\n",
    "\n",
    "    # predicting words unless current word is <end>\n",
    "    while cur_word != \"<end>\":\n",
    "\n",
    "        # getting the current word output and states\n",
    "        decoder_input = np.array(tokenizer_eng.texts_to_sequences([cur_word]))\n",
    "        decoder_output, state_h, state_c = model.layers[1](decoder_input,states)\n",
    "\n",
    "        # updating states and predicting word \n",
    "        states = [state_h,state_c]\n",
    "        output = model.layers[2](decoder_output)\n",
    "        index = np.argmax(output)\n",
    "        pred_word = tokenizer_eng.sequences_to_texts([[index]])[0]\n",
    "\n",
    "        # updating the current word and adding it to predicted sentence\n",
    "        cur_word = pred_word\n",
    "        pred_sentence = pred_sentence + pred_word + \" \" \n",
    "    \n",
    "    pred_sentence = pred_sentence.strip()\n",
    "    \n",
    "    return pred_sentence"
   ]
  },
  {
   "cell_type": "markdown",
   "metadata": {
    "id": "n8TYj_A5Saci"
   },
   "source": [
    "**Computing Bleu Score**"
   ]
  },
  {
   "cell_type": "code",
   "execution_count": null,
   "metadata": {
    "id": "gHhdHoN1KClH"
   },
   "outputs": [],
   "source": [
    "from nltk.translate.bleu_score import sentence_bleu as bleu\n",
    "\n",
    "\n",
    "def bleu_score(reference,translation):\n",
    "    '''\n",
    "    Function to compute bleu score given a reference\n",
    "    and translation text\n",
    "    '''\n",
    "\n",
    "    reference = [reference.split()] # true sentence\n",
    "    translation = translation.split() # predicted\n",
    "\n",
    "    return bleu(reference,translation)\n"
   ]
  },
  {
   "cell_type": "code",
   "execution_count": null,
   "metadata": {
    "id": "qcCAJBMDKhb1"
   },
   "outputs": [],
   "source": [
    "def test_bleu(num_samples,data):\n",
    "    '''\n",
    "    Function to compute the bleu score for \n",
    "    random sentences in test data\n",
    "    '''\n",
    "\n",
    "    # sampling random points from dataset\n",
    "    sample_df = data.sample(num_samples) \n",
    "    sample_df = sample_df[[\"itl\",\"eng_output\"]]\n",
    "\n",
    "    scores = []\n",
    "\n",
    "    # looping through all sample points\n",
    "    for index,row in sample_df.iterrows():\n",
    "        input_sentence,target_sentence = row \n",
    "\n",
    "        # predicting using model\n",
    "        pred_sentence = predict(input_sentence)\n",
    "\n",
    "        if len(pred_sentence) == 2:\n",
    "          pred_sentence = pred_sentence[0]\n",
    "\n",
    "        # calculating bleu score\n",
    "        score = bleu_score(target_sentence,pred_sentence)\n",
    "        scores.append(score)\n",
    "    \n",
    "    # finding average score\n",
    "    avg_score = np.mean(scores)\n",
    "\n",
    "    return scores,avg_score"
   ]
  },
  {
   "cell_type": "code",
   "execution_count": null,
   "metadata": {
    "colab": {
     "base_uri": "https://localhost:8080/"
    },
    "id": "gp3XBn9sMbuA",
    "outputId": "52798e3c-eec7-4064-9f18-414e8ed1bc89"
   },
   "outputs": [
    {
     "name": "stdout",
     "output_type": "stream",
     "text": [
      "Average Blue Score for 1000 test samples: 0.7855177188221155\n"
     ]
    }
   ],
   "source": [
    "all_scores, avg_score = test_bleu(1000,df_test)\n",
    "print(f'Average Blue Score for 1000 test samples: {avg_score}')"
   ]
  },
  {
   "cell_type": "code",
   "execution_count": null,
   "metadata": {
    "colab": {
     "base_uri": "https://localhost:8080/",
     "height": 404
    },
    "id": "yqiq5My5u5HR",
    "outputId": "029a8e69-062e-4206-d0b8-ac1a1c05427c"
   },
   "outputs": [
    {
     "data": {
      "image/png": "[encoded data removed]",
      "text/plain": [
       "<Figure size 576x432 with 1 Axes>"
      ]
     },
     "metadata": {
      "needs_background": "light",
      "tags": []
     },
     "output_type": "display_data"
    }
   ],
   "source": [
    "# plotting distribution of Bleu Score \n",
    "plt.figure(figsize=(8,6))\n",
    "plt.title(\"Distribution of Bleu Scores: 1000 samples\")\n",
    "plt.xlabel(\"Bleu Score\")\n",
    "sns.histplot(all_scores)\n",
    "plt.show()"
   ]
  },
  {
   "cell_type": "markdown",
   "metadata": {
    "id": "yZhX3K9GLOfJ"
   },
   "source": [
    "## Attention Mechanism"
   ]
  },
  {
   "cell_type": "markdown",
   "metadata": {
    "id": "Q3d7GeBMGbsJ"
   },
   "source": [
    "Under this section we will be adding attention mechanism to our encoder-decoder architecture. We will be implementing three different models based on the following strategies to calculate attention weights:\n",
    "\n",
    "- Dot \n",
    "- General \n",
    "- Concat"
   ]
  },
  {
   "cell_type": "markdown",
   "metadata": {
    "id": "PU4KIsGxLOfK"
   },
   "source": [
    "### Model Implementation"
   ]
  },
  {
   "cell_type": "markdown",
   "metadata": {
    "id": "TMm3ADQDLOfK"
   },
   "source": [
    "#### Encoder"
   ]
  },
  {
   "cell_type": "code",
   "execution_count": null,
   "metadata": {
    "id": "Lx_5NA24KzRp"
   },
   "outputs": [],
   "source": [
    "from tensorflow.keras.layers import LSTM\n",
    "from tensorflow.keras.layers import Embedding\n",
    "from tensorflow.keras.regularizers import l2\n",
    "from tensorflow.keras.initializers import HeNormal\n",
    "\n",
    "regularizer = l2(0.0001)\n",
    "initializer = HeNormal()\n",
    "\n",
    "class Encoder(tf.keras.layers.Layer):\n",
    "    '''\n",
    "    Encoder model -- That takes a input sequence and returns encoder-outputs,encoder_final_state_h,encoder_final_state_c\n",
    "    '''\n",
    "\n",
    "    def __init__(self,inp_vocab_size,embedding_size,lstm_size,input_length):\n",
    "\n",
    "        # initializing input variables and required layers \n",
    "\n",
    "        super().__init__()\n",
    "        self.lstm_units = lstm_size\n",
    "        self.embedding = Embedding(input_dim=inp_vocab_size,output_dim=embedding_size,input_length=input_length,\n",
    "                                   mask_zero=True)        \n",
    "        self.lstm = LSTM(units=self.lstm_units,recurrent_initializer=initializer,recurrent_regularizer=regularizer,\n",
    "                         return_sequences=True,return_state=True, dropout=0.3)\n",
    "\n",
    "\n",
    "    def call(self,input_sequence,states):\n",
    "        '''\n",
    "          This function takes a sequence input and the initial states of the encoder.\n",
    "          Pass the input_sequence input to the Embedding layer, Pass the embedding layer ouput to encoder_lstm\n",
    "          returns -- encoder_output, last time step's hidden and cell state\n",
    "        '''\n",
    "\n",
    "        # passing encoder inputs through embedding and lstm layers\n",
    "\n",
    "        embedding_vectors = self.embedding(input_sequence)\n",
    "        encoder_output, state_h, state_c = self.lstm(inputs=embedding_vectors,initial_state=states)\n",
    "\n",
    "        return encoder_output, state_h, state_c \n",
    "\n",
    "\n",
    "    def initialize_states(self,batch_size):\n",
    "      '''\n",
    "      Given a batch size it will return intial hidden state and intial cell state.\n",
    "      If batch size is 32- Hidden state is zeros of size [32,lstm_units], cell state zeros is of size [32,lstm_units]\n",
    "      '''\n",
    "      initial_h =  tf.zeros(shape=[batch_size,self.lstm_units]) # initial hidden state\n",
    "      initial_c =  tf.zeros(shape=[batch_size,self.lstm_units]) # initial cell state\n",
    "\n",
    "      return [initial_h, initial_c]"
   ]
  },
  {
   "cell_type": "markdown",
   "metadata": {
    "id": "lXn278lhLYRM"
   },
   "source": [
    "#### Attention Logic"
   ]
  },
  {
   "cell_type": "code",
   "execution_count": null,
   "metadata": {
    "id": "1S7CzIqAgfJl"
   },
   "outputs": [],
   "source": [
    "from tensorflow.keras.regularizers import l2\n",
    "from tensorflow.keras.initializers import GlorotNormal\n",
    "\n",
    "regularizer = l2(0.0001)\n",
    "initializer = GlorotNormal()\n",
    "\n",
    "class Attention(tf.keras.layers.Layer):\n",
    "    '''\n",
    "    Class the calculates score based on the scoring_function using Bahdanu attention mechanism.\n",
    "    '''\n",
    "\n",
    "    def __init__(self,scoring_function,att_units):\n",
    "\n",
    "        # initializing attention layer\n",
    "        super().__init__()\n",
    "        self.scoring_function = scoring_function\n",
    "        self.att_units = att_units\n",
    "\n",
    "        if self.scoring_function=='dot':\n",
    "            # initializing variables for dot product\n",
    "            self.dot_1 = tf.keras.layers.Dot(axes=(2,1))\n",
    "            self.dot_2 = tf.keras.layers.Dot(axes=(1,1))\n",
    "            self.softmax = tf.keras.layers.Softmax()\n",
    "\n",
    "        elif self.scoring_function == \"general\":\n",
    "            # initializing variables for general scoring\n",
    "            self.dot_1 = tf.keras.layers.Dot(axes=(2,1))\n",
    "            self.dot_2 = tf.keras.layers.Dot(axes=(1,1))\n",
    "            self.w = tf.keras.layers.Dense(units=self.att_units,kernel_initializer=initializer,kernel_regularizer=regularizer)\n",
    "            self.softmax = tf.keras.layers.Softmax()\n",
    "\n",
    "        elif self.scoring_function == \"concat\":\n",
    "            # initializing variables for concat scoring\n",
    "            self.w1 = tf.keras.layers.Dense(units=self.att_units,kernel_initializer=initializer,kernel_regularizer=regularizer)\n",
    "            self.w2 = tf.keras.layers.Dense(units=self.att_units,kernel_initializer=initializer,kernel_regularizer=regularizer)\n",
    "            self.tanh = tf.keras.layers.Activation(activation=\"tanh\")\n",
    "            self.v = tf.keras.layers.Dense(units=1)\n",
    "            self.softmax = tf.keras.layers.Softmax(axis=1)\n",
    "            self.dot = tf.keras.layers.Dot(axes=(1,1))\n",
    "            \n",
    "            \n",
    "    \n",
    "    def call(self,decoder_hidden_state,encoder_output):\n",
    "        '''\n",
    "      Attention mechanism takes two inputs current step -- decoder_hidden_state and all the encoder_outputs.\n",
    "      * Based on the scoring function we will find the score or similarity between decoder_hidden_state and encoder_output.\n",
    "        Multiply the score function with your encoder_outputs to get the context vector.\n",
    "        Function returns context vector and attention weights(softmax - scores)\n",
    "        '''\n",
    "\n",
    "        if self.scoring_function == 'dot':\n",
    "        \n",
    "            # implementing dot score function\n",
    "            similarity = self.dot_1([encoder_output,decoder_hidden_state])\n",
    "            attn_weights = self.softmax(similarity)\n",
    "            context_vector = self.dot_2([attn_weights,encoder_output])\n",
    "\n",
    "            # expanding dimension of attn_weights\n",
    "            attn_weights = tf.expand_dims(attn_weights,axis=-1)\n",
    "\n",
    "            return context_vector, attn_weights \n",
    "        \n",
    "        elif self.scoring_function == \"general\":\n",
    "            \n",
    "            # implementing general score function\n",
    "            dense_output = self.w(encoder_output)\n",
    "            similarity = self.dot_1([dense_output,decoder_hidden_state]) \n",
    "            attn_weights = self.softmax(similarity)\n",
    "            context_vector = self.dot_2([attn_weights,encoder_output])\n",
    "\n",
    "            # expanding dimension of attn_weights\n",
    "            attn_weights = tf.expand_dims(attn_weights,axis=-1)\n",
    "\n",
    "            return context_vector, attn_weights\n",
    "\n",
    "\n",
    "\n",
    "        \n",
    "        elif self.scoring_function == \"concat\":\n",
    "            \n",
    "            # implementing concat score function\n",
    "\n",
    "            # weights multiplication\n",
    "            dense_encoder = self.w1(encoder_output)\n",
    "            dense_decoder = self.w2(decoder_hidden_state)\n",
    "\n",
    "            # concatenation of encoder and decoder\n",
    "            dense_decoder = dense_decoder[:,None,:]\n",
    "            concat = dense_encoder + dense_decoder\n",
    "            concat_output = self.v(self.tanh(concat))\n",
    "            attn_weights = self.softmax(concat_output)\n",
    "            context_vector = self.dot([attn_weights,encoder_output])\n",
    "\n",
    "            # squeezing dimensions of context vector\n",
    "            context_vector = tf.squeeze(context_vector,axis=1)\n",
    "\n",
    "            return context_vector, attn_weights\n",
    "\n",
    "\n"
   ]
  },
  {
   "cell_type": "markdown",
   "metadata": {
    "id": "ic-FNEbfL2DN"
   },
   "source": [
    "#### OneStep Decoder"
   ]
  },
  {
   "cell_type": "code",
   "execution_count": null,
   "metadata": {
    "id": "Kc8m7lmOL097"
   },
   "outputs": [],
   "source": [
    "from tensorflow.keras.layers import LSTM\n",
    "from tensorflow.keras.layers import Embedding\n",
    "from tensorflow.keras.regularizers import l2\n",
    "from tensorflow.keras.initializers import HeNormal\n",
    "\n",
    "regularizer = l2(0.0001)\n",
    "initializer = HeNormal()\n",
    "\n",
    "\n",
    "class One_Step_Decoder(tf.keras.layers.Layer):\n",
    "  def __init__(self,tar_vocab_size, embedding_dim, input_length, dec_units ,score_fun ,att_units):\n",
    "\n",
    "      # initializing variables for one-step-decoder\n",
    "\n",
    "      super().__init__()\n",
    "      self.lstm_units = dec_units\n",
    "      self.att_units = att_units\n",
    "      self.scoring_fun = score_fun\n",
    "      self.embedding = Embedding(input_dim=tar_vocab_size, output_dim=embedding_dim,mask_zero=True,input_length=input_length)\n",
    "      self.lstm = LSTM(units=self.lstm_units,recurrent_initializer=initializer,recurrent_regularizer=regularizer,\n",
    "                       return_sequences=True,return_state=True, dropout=0.3)\n",
    "      self.attention = Attention(self.scoring_fun,self.att_units)\n",
    "      self.concat = tf.keras.layers.Concatenate(axis=2)\n",
    "      self.dense = tf.keras.layers.Dense(units=tar_vocab_size)\n",
    "\n",
    "\n",
    "\n",
    "  def call(self,input_to_decoder, encoder_output, state_h,state_c):\n",
    "    '''\n",
    "        One step decoder mechanisim step by step:\n",
    "      A. Pass the input_to_decoder    embedding_vector = self.embedding(input_to_decoder)\n",
    "    context_vector, attn_weights = self.attention(state_h,encoder_output)\n",
    "    concat_input = self.concat([embedding_vector,context_vector])\n",
    "    decoder_output, state_h, state_c = self.lstm(inputs=concat_input,initial_state=[state_h,state_c])\n",
    "    output = self.dense(decoder_output) to the embedding layer and then get the output(batch_size,1,embedding_dim)\n",
    "      B. Using the encoder_output and decoder hidden state, compute the context vector.\n",
    "      C. Concat the context vector with the step A output\n",
    "      D. Pass the Step-C output to LSTM/GRU and get the decoder output and states(hidden and cell state)\n",
    "      E. Pass the decoder output to dense layer(vocab size) and store the result into output.\n",
    "      F. Return the states from step D, output from Step E, attention weights from Step -B\n",
    "    '''\n",
    "\n",
    "    # embedding vector of decoder input\n",
    "    embedding_vector = self.embedding(input_to_decoder)\n",
    "\n",
    "    # context vector and attention weights\n",
    "    context_vector, attn_weights = self.attention(state_h,encoder_output)\n",
    "    context_vector_exp = tf.expand_dims(context_vector,axis=1)\n",
    "\n",
    "    # concat context vector + decoder embedding for final output\n",
    "    concat_input = self.concat([embedding_vector,context_vector_exp])\n",
    "    decoder_output, state_h, state_c = self.lstm(inputs=concat_input,initial_state=[state_h,state_c])\n",
    "    output = self.dense(decoder_output)\n",
    "\n",
    "    # squeezing dimensions of output\n",
    "    output = tf.squeeze(output)\n",
    "\n",
    "    return  output, state_h, state_c, attn_weights, context_vector\n"
   ]
  },
  {
   "cell_type": "markdown",
   "metadata": {
    "id": "6FHrurjUMGAi"
   },
   "source": [
    "#### Decoder"
   ]
  },
  {
   "cell_type": "code",
   "execution_count": null,
   "metadata": {
    "id": "NV-x31rj6Hc4"
   },
   "outputs": [],
   "source": [
    "class Decoder(tf.keras.layers.Layer):\n",
    "    def __init__(self,out_vocab_size, embedding_dim, input_length, dec_units ,score_fun ,att_units):\n",
    "\n",
    "      # initializing necessary variables \n",
    "      super().__init__()\n",
    "      self.out_vocab_size = out_vocab_size\n",
    "      self.embedding_dim = embedding_dim\n",
    "      self.input_length = input_length\n",
    "      self.score_fun = score_fun\n",
    "      self.att_units = att_units\n",
    "      self.dec_units = dec_units\n",
    "      self.onestepdecoder = One_Step_Decoder(self.out_vocab_size,self.embedding_dim,self.input_length,\n",
    "                                             self.dec_units,self.score_fun,self.att_units)\n",
    "      \n",
    "      \n",
    "\n",
    "    \n",
    "    def call(self, input_to_decoder,encoder_output,decoder_hidden_state,decoder_cell_state ):\n",
    "        '''\n",
    "        Function returns output vector of shape (batch_size, input_length, vocab_size)\n",
    "        given a sequence of decoder input\n",
    "        '''\n",
    "\n",
    "        # initializing empty tensor array to store outputs at each time step\n",
    "        all_outputs = tf.TensorArray(tf.float32,size=tf.shape(input_to_decoder)[1])\n",
    "        \n",
    "\n",
    "        # looping through all time steps in decoder input        \n",
    "        for timestamp in range(tf.shape(input_to_decoder)[1]):\n",
    "            output, decoder_hidden_state, decoder_cell_state, attn_weights, context_vector  = self.onestepdecoder(input_to_decoder[:,timestamp:timestamp + 1],encoder_output,\n",
    "                                                                                                                  decoder_hidden_state,decoder_cell_state)\n",
    "            # writing data to tensor array\n",
    "            all_outputs = all_outputs.write(timestamp,output)\n",
    "        \n",
    "        all_outputs = tf.transpose(all_outputs.stack(),[1,0,2])\n",
    "\n",
    "        return all_outputs"
   ]
  },
  {
   "cell_type": "markdown",
   "metadata": {
    "id": "fC1T1EOoMTqC"
   },
   "source": [
    "#### Encoder Decoder Model with Attention"
   ]
  },
  {
   "cell_type": "code",
   "execution_count": null,
   "metadata": {
    "id": "FfqBIe20MT3D"
   },
   "outputs": [],
   "source": [
    "encoder_max = len(tokenizer_itl.word_index) \n",
    "decoder_max = len(tokenizer_eng.word_index)\n",
    "\n",
    "class encoder_decoder(tf.keras.Model):\n",
    "  def __init__(self,batch_size,score_fun):\n",
    "    \n",
    "    # initializing required variables\n",
    "\n",
    "    super().__init__()\n",
    "    self.batch_size = batch_size\n",
    "    self.score_fun = score_fun\n",
    "    self.encoder = Encoder(encoder_max + 1, embedding_size=100,lstm_size=128,input_length=20)\n",
    "    self.decoder = Decoder(decoder_max + 1,embedding_dim=100,input_length=20,dec_units=128,score_fun=self.score_fun,att_units=128)\n",
    "\n",
    "  \n",
    "  def call(self,data):\n",
    "    '''\n",
    "    Function that takes encoder and decoder sequences as input, computes context vector/attention weights\n",
    "    to return final decoder output\n",
    "    ''' \n",
    "    \n",
    "    encoder_input, decoder_input = data[0], data[1]\n",
    "\n",
    "    # passing input sequence to encoder\n",
    "    encoder_initial = self.encoder.initialize_states(self.batch_size)\n",
    "    encoder_output, state_h, state_c = self.encoder(encoder_input,encoder_initial)\n",
    "\n",
    "    # passing encoder_output and states to decoder\n",
    "    decoder_output = self.decoder(decoder_input,encoder_output,state_h,state_c)\n",
    "\n",
    "    # returning the final output\n",
    "    return decoder_output"
   ]
  },
  {
   "cell_type": "markdown",
   "metadata": {
    "id": "WVRxB-FDMJWL"
   },
   "source": [
    "#### Custom Loss Function"
   ]
  },
  {
   "cell_type": "code",
   "execution_count": null,
   "metadata": {
    "id": "QY_3izrXMs8y"
   },
   "outputs": [],
   "source": [
    "#https://www.tensorflow.org/tutorials/text/image_captioning#model\n",
    "loss_object = tf.keras.losses.SparseCategoricalCrossentropy(\n",
    "    from_logits=True, reduction='none')\n",
    "\n",
    "\n",
    "def loss_function(real, pred):\n",
    "    '''\n",
    "    Function to implement custom error/loss metric to minimize\n",
    "    '''\n",
    "    \n",
    "    mask = tf.math.logical_not(tf.math.equal(real, 0))\n",
    "    loss_ = loss_object(real, pred)\n",
    "\n",
    "    mask = tf.cast(mask, dtype=loss_.dtype)\n",
    "    loss_ *= mask\n",
    "\n",
    "    return tf.reduce_mean(loss_)"
   ]
  },
  {
   "cell_type": "markdown",
   "metadata": {
    "id": "2QlbWAqNNlqe"
   },
   "source": [
    "### Training - Dot Method"
   ]
  },
  {
   "cell_type": "code",
   "execution_count": null,
   "metadata": {
    "colab": {
     "base_uri": "https://localhost:8080/"
    },
    "id": "O6MATwPiXpuy",
    "outputId": "31029b27-2f35-41ce-8d5c-10dee3ff2352"
   },
   "outputs": [
    {
     "name": "stdout",
     "output_type": "stream",
     "text": [
      "(1024, 20) (1024, 20) (1024, 20)\n"
     ]
    }
   ],
   "source": [
    "# train and test data loader\n",
    "\n",
    "train_dataset = Dataset(df_train,tokenizer_itl,tokenizer_eng,20)\n",
    "test_dataset = Dataset(df_test,tokenizer_itl,tokenizer_eng,20)\n",
    "\n",
    "train_dataloader = Dataloder(train_dataset,batch_size=1024)\n",
    "test_dataloader = Dataloder(test_dataset,batch_size=1024)\n",
    "\n",
    "print(train_dataloader[0][0][0].shape, train_dataloader[0][0][1].shape, train_dataloader[0][1].shape)"
   ]
  },
  {
   "cell_type": "code",
   "execution_count": null,
   "metadata": {
    "id": "5yYEwLLkYHTy"
   },
   "outputs": [],
   "source": [
    "train_steps = df_train.shape[0] // 1024\n",
    "test_steps = df_test.shape[0] // 1024"
   ]
  },
  {
   "cell_type": "code",
   "execution_count": null,
   "metadata": {
    "id": "zfSwEuvgycHG"
   },
   "outputs": [],
   "source": [
    "# defining callbacks\n",
    "\n",
    "from tensorflow.keras.callbacks import EarlyStopping, ReduceLROnPlateau\n",
    "\n",
    "early_stop = EarlyStopping(monitor=\"val_loss\",patience=2,mode=\"min\")\n",
    "reduce_lr = ReduceLROnPlateau(monitor='val_loss',patience=5,min_delta=0.005,min_lr=1e-8)\n",
    "tensorboard = tf_callback(model_num=2)\n",
    "callbacks = [early_stop,tensorboard, reduce_lr]"
   ]
  },
  {
   "cell_type": "code",
   "execution_count": null,
   "metadata": {
    "colab": {
     "base_uri": "https://localhost:8080/"
    },
    "id": "uVDQkFkvYRIc",
    "outputId": "fbb95d07-824c-4283-f447-6bbacfea6ac9"
   },
   "outputs": [
    {
     "name": "stdout",
     "output_type": "stream",
     "text": [
      "Epoch 1/50\n",
      "272/272 [==============================] - 112s 389ms/step - loss: 1.9890 - val_loss: 1.6717\n",
      "Epoch 2/50\n",
      "272/272 [==============================] - 102s 376ms/step - loss: 1.5389 - val_loss: 1.3859\n",
      "Epoch 3/50\n",
      "272/272 [==============================] - 102s 375ms/step - loss: 1.2712 - val_loss: 1.1447\n",
      "Epoch 4/50\n",
      "272/272 [==============================] - 111s 409ms/step - loss: 1.0759 - val_loss: 0.9838\n",
      "Epoch 5/50\n",
      "272/272 [==============================] - 102s 374ms/step - loss: 0.9391 - val_loss: 0.8623\n",
      "Epoch 6/50\n",
      "272/272 [==============================] - 102s 374ms/step - loss: 0.8315 - val_loss: 0.7607\n",
      "Epoch 7/50\n",
      "272/272 [==============================] - 102s 375ms/step - loss: 0.7414 - val_loss: 0.6768\n",
      "Epoch 8/50\n",
      "272/272 [==============================] - 102s 375ms/step - loss: 0.6656 - val_loss: 0.6060\n",
      "Epoch 9/50\n",
      "272/272 [==============================] - 101s 370ms/step - loss: 0.6025 - val_loss: 0.5470\n",
      "Epoch 10/50\n",
      "272/272 [==============================] - 102s 375ms/step - loss: 0.5498 - val_loss: 0.4994\n",
      "Epoch 11/50\n",
      "272/272 [==============================] - 101s 372ms/step - loss: 0.5060 - val_loss: 0.4608\n",
      "Epoch 12/50\n",
      "272/272 [==============================] - 102s 373ms/step - loss: 0.4685 - val_loss: 0.4273\n",
      "Epoch 13/50\n",
      "272/272 [==============================] - 101s 371ms/step - loss: 0.4372 - val_loss: 0.4012\n",
      "Epoch 14/50\n",
      "272/272 [==============================] - 102s 373ms/step - loss: 0.4103 - val_loss: 0.3780\n",
      "Epoch 15/50\n",
      "272/272 [==============================] - 102s 373ms/step - loss: 0.3874 - val_loss: 0.3591\n",
      "Epoch 16/50\n",
      "272/272 [==============================] - 102s 374ms/step - loss: 0.3672 - val_loss: 0.3422\n",
      "Epoch 17/50\n",
      "272/272 [==============================] - 102s 373ms/step - loss: 0.3495 - val_loss: 0.3282\n",
      "Epoch 18/50\n",
      "272/272 [==============================] - 101s 372ms/step - loss: 0.3334 - val_loss: 0.3150\n",
      "Epoch 19/50\n",
      "272/272 [==============================] - 101s 373ms/step - loss: 0.3202 - val_loss: 0.3052\n",
      "Epoch 20/50\n",
      "272/272 [==============================] - 101s 370ms/step - loss: 0.3078 - val_loss: 0.2947\n",
      "Epoch 21/50\n",
      "272/272 [==============================] - 102s 373ms/step - loss: 0.2970 - val_loss: 0.2860\n",
      "Epoch 22/50\n",
      "272/272 [==============================] - 101s 371ms/step - loss: 0.2867 - val_loss: 0.2795\n",
      "Epoch 23/50\n",
      "272/272 [==============================] - 102s 376ms/step - loss: 0.2778 - val_loss: 0.2718\n",
      "Epoch 24/50\n",
      "272/272 [==============================] - 102s 375ms/step - loss: 0.2699 - val_loss: 0.2664\n",
      "Epoch 25/50\n",
      "272/272 [==============================] - 101s 370ms/step - loss: 0.2620 - val_loss: 0.2609\n",
      "Epoch 26/50\n",
      "272/272 [==============================] - 101s 371ms/step - loss: 0.2556 - val_loss: 0.2560\n",
      "Epoch 27/50\n",
      "272/272 [==============================] - 102s 374ms/step - loss: 0.2493 - val_loss: 0.2511\n",
      "Epoch 28/50\n",
      "272/272 [==============================] - 101s 372ms/step - loss: 0.2435 - val_loss: 0.2476\n",
      "Epoch 29/50\n",
      "272/272 [==============================] - 101s 372ms/step - loss: 0.2378 - val_loss: 0.2431\n",
      "Epoch 30/50\n",
      "272/272 [==============================] - 102s 373ms/step - loss: 0.2331 - val_loss: 0.2401\n",
      "Epoch 31/50\n",
      "272/272 [==============================] - 101s 372ms/step - loss: 0.2282 - val_loss: 0.2370\n",
      "Epoch 32/50\n",
      "272/272 [==============================] - 101s 372ms/step - loss: 0.2240 - val_loss: 0.2337\n",
      "Epoch 33/50\n",
      "272/272 [==============================] - 101s 372ms/step - loss: 0.2198 - val_loss: 0.2312\n",
      "Epoch 34/50\n",
      "272/272 [==============================] - 102s 374ms/step - loss: 0.2165 - val_loss: 0.2284\n",
      "Epoch 35/50\n",
      "272/272 [==============================] - 101s 371ms/step - loss: 0.2124 - val_loss: 0.2265\n",
      "Epoch 36/50\n",
      "272/272 [==============================] - 101s 371ms/step - loss: 0.2092 - val_loss: 0.2239\n",
      "Epoch 37/50\n",
      "272/272 [==============================] - 101s 371ms/step - loss: 0.2059 - val_loss: 0.2219\n",
      "Epoch 38/50\n",
      "272/272 [==============================] - 101s 373ms/step - loss: 0.2030 - val_loss: 0.2196\n",
      "Epoch 39/50\n",
      "272/272 [==============================] - 102s 374ms/step - loss: 0.2001 - val_loss: 0.2183\n",
      "Epoch 40/50\n",
      "272/272 [==============================] - 101s 373ms/step - loss: 0.1971 - val_loss: 0.2153\n",
      "Epoch 41/50\n",
      "272/272 [==============================] - 101s 372ms/step - loss: 0.1948 - val_loss: 0.2141\n",
      "Epoch 42/50\n",
      "272/272 [==============================] - 102s 373ms/step - loss: 0.1926 - val_loss: 0.2126\n",
      "Epoch 43/50\n",
      "272/272 [==============================] - 101s 372ms/step - loss: 0.1900 - val_loss: 0.2115\n",
      "Epoch 44/50\n",
      "272/272 [==============================] - 101s 373ms/step - loss: 0.1879 - val_loss: 0.2105\n",
      "Epoch 45/50\n",
      "272/272 [==============================] - 100s 368ms/step - loss: 0.1858 - val_loss: 0.2085\n",
      "Epoch 46/50\n",
      "272/272 [==============================] - 101s 370ms/step - loss: 0.1837 - val_loss: 0.2082\n",
      "Epoch 47/50\n",
      "272/272 [==============================] - 100s 368ms/step - loss: 0.1817 - val_loss: 0.2062\n",
      "Epoch 48/50\n",
      "272/272 [==============================] - 101s 369ms/step - loss: 0.1800 - val_loss: 0.2055\n",
      "Epoch 49/50\n",
      "272/272 [==============================] - 100s 367ms/step - loss: 0.1782 - val_loss: 0.2047\n",
      "Epoch 50/50\n",
      "272/272 [==============================] - 100s 369ms/step - loss: 0.1763 - val_loss: 0.2031\n"
     ]
    },
    {
     "data": {
      "text/plain": [
       "<tensorflow.python.keras.callbacks.History at 0x7f93291e1d10>"
      ]
     },
     "execution_count": 62,
     "metadata": {
      "tags": []
     },
     "output_type": "execute_result"
    }
   ],
   "source": [
    "# Compile the model and fit the model\n",
    "\n",
    "tf.keras.backend.clear_session()\n",
    "model = encoder_decoder(batch_size=1024,score_fun=\"dot\")\n",
    "optimizer = tf.keras.optimizers.Adam(0.001)\n",
    "\n",
    "model.compile(optimizer=optimizer,loss=loss_function)\n",
    "model.fit_generator(train_dataloader,steps_per_epoch=train_steps,epochs=50,validation_data=test_dataloader,validation_steps=test_steps,callbacks=callbacks)\n"
   ]
  },
  {
   "cell_type": "markdown",
   "metadata": {
    "id": "6DpC9zlzMcXp"
   },
   "source": [
    "#### Inference"
   ]
  },
  {
   "cell_type": "code",
   "execution_count": null,
   "metadata": {
    "id": "MP3kLZoPMvSu"
   },
   "outputs": [],
   "source": [
    "def predict(input_sentence):\n",
    "    '''\n",
    "    Function to predict the translated sentence given an input sentence\n",
    "    '''\n",
    "    # getting the context vector from the encoder\n",
    "    encoder_input = [input_sentence]\n",
    "    encoder_input = np.array(tokenizer_itl.texts_to_sequences(encoder_input))\n",
    "    encoder_initial = model.layers[0].initialize_states(1)\n",
    "    encoder_output, state_h, state_c = model.layers[0](encoder_input,encoder_initial)\n",
    "\n",
    "    # initializing first word as <start> for the decoder\n",
    "    cur_word = \"<start>\"\n",
    "    pred_sentence = \"\"\n",
    "\n",
    "    # storing all attention weights\n",
    "    attention_matrix = [] \n",
    "    \n",
    "    # predicting words unless current word is <end>\n",
    "    while cur_word != \"<end>\":\n",
    "\n",
    "        # getting the current word output and states\n",
    "        decoder_input = np.array(tokenizer_eng.texts_to_sequences([cur_word]))\n",
    "        decoder_output, state_h, state_c, att_weights, context_vector = model.layers[1].onestepdecoder(decoder_input,encoder_output,state_h,state_c)\n",
    "\n",
    "        # predicting word \n",
    "        index = np.argmax(decoder_output)\n",
    "        pred_word = tokenizer_eng.sequences_to_texts([[index]])[0]\n",
    "\n",
    "        # storing attention weights corresponding to predicted word\n",
    "        att_weights = np.squeeze(att_weights)\n",
    "        attention_matrix.append(att_weights)\n",
    "\n",
    "        # updating the current word and adding it to predicted sentence\n",
    "        cur_word = pred_word\n",
    "        pred_sentence = pred_sentence + pred_word + \" \" \n",
    "    \n",
    "    pred_sentence = pred_sentence.strip()\n",
    "    \n",
    "    return pred_sentence, np.array(attention_matrix)"
   ]
  },
  {
   "cell_type": "markdown",
   "metadata": {
    "id": "Z5NhESYyMW_t"
   },
   "source": [
    "#### Plotting Attention Weights"
   ]
  },
  {
   "cell_type": "code",
   "execution_count": null,
   "metadata": {
    "id": "svaEPN-brkF6"
   },
   "outputs": [],
   "source": [
    "# https://www.tensorflow.org/tutorials/text/nmt_with_attention\n",
    "\n",
    "def plot_attention(input_sentence):\n",
    "    '''\n",
    "    Function to plot heatmap for attention weights\n",
    "    '''\n",
    "\n",
    "    # predicted sentence and attention matrix\n",
    "    pred_output,attention_matrix = predict(input_sentence)\n",
    "\n",
    "    # plotting attention matrix\n",
    "    plt.figure(figsize=(10,10))\n",
    "    plt.title(\"Attention Weights\")\n",
    "    ax = sns.heatmap(attention_matrix,cmap=\"YlGnBu\")\n",
    "    ax.set_yticklabels(pred_output.split(),rotation=0)\n",
    "    ax.set_xticklabels(input_sentence.split())\n",
    "    ax.xaxis.tick_top() # x axis on top\n",
    "    ax.set_xlabel(\"Input text\")\n",
    "    ax.set_ylabel(\"Output text\")\n",
    "\n",
    "    return plt.show()"
   ]
  },
  {
   "cell_type": "code",
   "execution_count": null,
   "metadata": {
    "colab": {
     "base_uri": "https://localhost:8080/",
     "height": 1000
    },
    "id": "pkEY7SsBMtrC",
    "outputId": "cbd86bd1-60aa-425b-fc2a-aa4a19f89bb0"
   },
   "outputs": [
    {
     "data": {
      "image/png": "[encoded data removed]",
      "text/plain": [
       "<Figure size 720x720 with 2 Axes>"
      ]
     },
     "metadata": {
      "needs_background": "light",
      "tags": []
     },
     "output_type": "display_data"
    },
    {
     "data": {
      "image/png": "[encoded data removed]",
      "text/plain": [
       "<Figure size 720x720 with 2 Axes>"
      ]
     },
     "metadata": {
      "needs_background": "light",
      "tags": []
     },
     "output_type": "display_data"
    },
    {
     "data": {
      "image/png": "[encoded data removed]",
      "text/plain": [
       "<Figure size 720x720 with 2 Axes>"
      ]
     },
     "metadata": {
      "needs_background": "light",
      "tags": []
     },
     "output_type": "display_data"
    }
   ],
   "source": [
    "# plotting attention weight matrix for 3 random test samples\n",
    "\n",
    "for i in range(3):\n",
    "  temp_df = df_test.sample(1)\n",
    "  test_input = temp_df['itl'].values[0]\n",
    "  plot_attention(test_input)"
   ]
  },
  {
   "cell_type": "markdown",
   "metadata": {
    "id": "jmxIVOOQPWMu"
   },
   "source": [
    "#### Calculate BLEU Score"
   ]
  },
  {
   "cell_type": "code",
   "execution_count": null,
   "metadata": {
    "colab": {
     "base_uri": "https://localhost:8080/"
    },
    "id": "E0XBQFBo2z_3",
    "outputId": "97082a0f-ca4c-4d75-d936-9263c45369af"
   },
   "outputs": [
    {
     "name": "stdout",
     "output_type": "stream",
     "text": [
      "Average Blue Score for 1000 test samples: 0.7709246292959893\n"
     ]
    }
   ],
   "source": [
    "all_scores, avg_score = test_bleu(1000,df_test)\n",
    "print(f'Average Blue Score for 1000 test samples: {avg_score}')"
   ]
  },
  {
   "cell_type": "code",
   "execution_count": null,
   "metadata": {
    "colab": {
     "base_uri": "https://localhost:8080/",
     "height": 404
    },
    "id": "kCg1cTuX2_mV",
    "outputId": "2dfdb95d-23a5-499d-f84b-44d21070f58e"
   },
   "outputs": [
    {
     "data": {
      "image/png": "[encoded data removed]",
      "text/plain": [
       "<Figure size 576x432 with 1 Axes>"
      ]
     },
     "metadata": {
      "needs_background": "light",
      "tags": []
     },
     "output_type": "display_data"
    }
   ],
   "source": [
    "# plotting distribution of Bleu Score \n",
    "plt.figure(figsize=(8,6))\n",
    "plt.title(\"Distribution of Bleu Scores: 1000 samples\")\n",
    "plt.xlabel(\"Bleu Score\")\n",
    "sns.histplot(all_scores)\n",
    "plt.show()"
   ]
  },
  {
   "cell_type": "markdown",
   "metadata": {
    "id": "SWg2ferDQvT3"
   },
   "source": [
    "### Training - General Scoring"
   ]
  },
  {
   "cell_type": "code",
   "execution_count": null,
   "metadata": {
    "colab": {
     "base_uri": "https://localhost:8080/"
    },
    "id": "8mBUWr80P45h",
    "outputId": "d768198c-9d44-4f0c-fece-8c71b3787980"
   },
   "outputs": [
    {
     "name": "stdout",
     "output_type": "stream",
     "text": [
      "(1024, 20) (1024, 20) (1024, 20)\n"
     ]
    }
   ],
   "source": [
    "# train and test data loader\n",
    "\n",
    "train_dataset = Dataset(df_train,tokenizer_itl,tokenizer_eng,20)\n",
    "test_dataset = Dataset(df_test,tokenizer_itl,tokenizer_eng,20)\n",
    "\n",
    "train_dataloader = Dataloder(train_dataset,batch_size=1024)\n",
    "test_dataloader = Dataloder(test_dataset,batch_size=1024)\n",
    "\n",
    "print(train_dataloader[0][0][0].shape, train_dataloader[0][0][1].shape, train_dataloader[0][1].shape)"
   ]
  },
  {
   "cell_type": "code",
   "execution_count": null,
   "metadata": {
    "id": "9o7ZEyUdP-Li"
   },
   "outputs": [],
   "source": [
    "train_steps = df_train.shape[0] // 1024\n",
    "test_steps = df_test.shape[0] // 1024"
   ]
  },
  {
   "cell_type": "code",
   "execution_count": null,
   "metadata": {
    "id": "qe5jEePnQA7H"
   },
   "outputs": [],
   "source": [
    "# defining callbacks\n",
    "\n",
    "from tensorflow.keras.callbacks import EarlyStopping, ReduceLROnPlateau\n",
    "\n",
    "early_stop = EarlyStopping(monitor=\"val_loss\",patience=2,mode=\"min\")\n",
    "reduce_lr = ReduceLROnPlateau(monitor='val_loss',patience=5,min_delta=0.005,min_lr=1e-8)\n",
    "tensorboard = tf_callback(model_num=3)\n",
    "callbacks = [early_stop,tensorboard, reduce_lr]"
   ]
  },
  {
   "cell_type": "code",
   "execution_count": null,
   "metadata": {
    "colab": {
     "base_uri": "https://localhost:8080/"
    },
    "id": "ojB2VjCJQElE",
    "outputId": "37e4e9dd-cd0d-472d-dc22-9554baadfe8c"
   },
   "outputs": [
    {
     "name": "stdout",
     "output_type": "stream",
     "text": [
      "Epoch 1/50\n",
      "272/272 [==============================] - 122s 427ms/step - loss: 1.9836 - val_loss: 1.6454\n",
      "Epoch 2/50\n",
      "272/272 [==============================] - 112s 410ms/step - loss: 1.4939 - val_loss: 1.3954\n",
      "Epoch 3/50\n",
      "272/272 [==============================] - 111s 408ms/step - loss: 1.2470 - val_loss: 1.2127\n",
      "Epoch 4/50\n",
      "272/272 [==============================] - 111s 406ms/step - loss: 1.0823 - val_loss: 1.0610\n",
      "Epoch 5/50\n",
      "272/272 [==============================] - 111s 408ms/step - loss: 0.9480 - val_loss: 0.9324\n",
      "Epoch 6/50\n",
      "272/272 [==============================] - 111s 407ms/step - loss: 0.8317 - val_loss: 0.8217\n",
      "Epoch 7/50\n",
      "272/272 [==============================] - 110s 406ms/step - loss: 0.7293 - val_loss: 0.7105\n",
      "Epoch 8/50\n",
      "272/272 [==============================] - 120s 443ms/step - loss: 0.6416 - val_loss: 0.6297\n",
      "Epoch 9/50\n",
      "272/272 [==============================] - 110s 404ms/step - loss: 0.5702 - val_loss: 0.5645\n",
      "Epoch 10/50\n",
      "272/272 [==============================] - 111s 409ms/step - loss: 0.5129 - val_loss: 0.5142\n",
      "Epoch 11/50\n",
      "272/272 [==============================] - 110s 404ms/step - loss: 0.4670 - val_loss: 0.4738\n",
      "Epoch 12/50\n",
      "272/272 [==============================] - 111s 408ms/step - loss: 0.4291 - val_loss: 0.4485\n",
      "Epoch 13/50\n",
      "272/272 [==============================] - 111s 409ms/step - loss: 0.3981 - val_loss: 0.4171\n",
      "Epoch 14/50\n",
      "272/272 [==============================] - 110s 403ms/step - loss: 0.3721 - val_loss: 0.3951\n",
      "Epoch 15/50\n",
      "272/272 [==============================] - 110s 405ms/step - loss: 0.3503 - val_loss: 0.3770\n",
      "Epoch 16/50\n",
      "272/272 [==============================] - 110s 404ms/step - loss: 0.3314 - val_loss: 0.3576\n",
      "Epoch 17/50\n",
      "272/272 [==============================] - 111s 409ms/step - loss: 0.3153 - val_loss: 0.3469\n",
      "Epoch 18/50\n",
      "272/272 [==============================] - 110s 403ms/step - loss: 0.3012 - val_loss: 0.3302\n",
      "Epoch 19/50\n",
      "272/272 [==============================] - 109s 401ms/step - loss: 0.2886 - val_loss: 0.3271\n",
      "Epoch 20/50\n",
      "272/272 [==============================] - 111s 407ms/step - loss: 0.2779 - val_loss: 0.3145\n",
      "Epoch 21/50\n",
      "272/272 [==============================] - 111s 408ms/step - loss: 0.2675 - val_loss: 0.3063\n",
      "Epoch 22/50\n",
      "272/272 [==============================] - 110s 404ms/step - loss: 0.2588 - val_loss: 0.2986\n",
      "Epoch 23/50\n",
      "272/272 [==============================] - 110s 403ms/step - loss: 0.2508 - val_loss: 0.2898\n",
      "Epoch 24/50\n",
      "272/272 [==============================] - 109s 402ms/step - loss: 0.2438 - val_loss: 0.2859\n",
      "Epoch 25/50\n",
      "272/272 [==============================] - 110s 405ms/step - loss: 0.2372 - val_loss: 0.2775\n",
      "Epoch 26/50\n",
      "272/272 [==============================] - 110s 403ms/step - loss: 0.2315 - val_loss: 0.2721\n",
      "Epoch 27/50\n",
      "272/272 [==============================] - 110s 405ms/step - loss: 0.2257 - val_loss: 0.2668\n",
      "Epoch 28/50\n",
      "272/272 [==============================] - 110s 404ms/step - loss: 0.2207 - val_loss: 0.2622\n",
      "Epoch 29/50\n",
      "272/272 [==============================] - 110s 405ms/step - loss: 0.2159 - val_loss: 0.2573\n",
      "Epoch 30/50\n",
      "272/272 [==============================] - 110s 405ms/step - loss: 0.2116 - val_loss: 0.2552\n",
      "Epoch 31/50\n",
      "272/272 [==============================] - 110s 404ms/step - loss: 0.2076 - val_loss: 0.2535\n",
      "Epoch 32/50\n",
      "272/272 [==============================] - 110s 404ms/step - loss: 0.2037 - val_loss: 0.2495\n",
      "Epoch 33/50\n",
      "272/272 [==============================] - 110s 404ms/step - loss: 0.2000 - val_loss: 0.2469\n",
      "Epoch 34/50\n",
      "272/272 [==============================] - 110s 403ms/step - loss: 0.1968 - val_loss: 0.2432\n",
      "Epoch 35/50\n",
      "272/272 [==============================] - 110s 403ms/step - loss: 0.1936 - val_loss: 0.2400\n",
      "Epoch 36/50\n",
      "272/272 [==============================] - 111s 407ms/step - loss: 0.1907 - val_loss: 0.2381\n",
      "Epoch 37/50\n",
      "272/272 [==============================] - 111s 408ms/step - loss: 0.1878 - val_loss: 0.2370\n",
      "Epoch 38/50\n",
      "272/272 [==============================] - 110s 405ms/step - loss: 0.1852 - val_loss: 0.2328\n",
      "Epoch 39/50\n",
      "272/272 [==============================] - 111s 408ms/step - loss: 0.1825 - val_loss: 0.2318\n",
      "Epoch 40/50\n",
      "272/272 [==============================] - 110s 405ms/step - loss: 0.1803 - val_loss: 0.2321\n",
      "Epoch 41/50\n",
      "272/272 [==============================] - 112s 410ms/step - loss: 0.1781 - val_loss: 0.2254\n",
      "Epoch 42/50\n",
      "272/272 [==============================] - 112s 410ms/step - loss: 0.1757 - val_loss: 0.2247\n",
      "Epoch 43/50\n",
      "272/272 [==============================] - 110s 405ms/step - loss: 0.1735 - val_loss: 0.2254\n",
      "Epoch 44/50\n",
      "272/272 [==============================] - 109s 401ms/step - loss: 0.1716 - val_loss: 0.2238\n",
      "Epoch 45/50\n",
      "272/272 [==============================] - 109s 402ms/step - loss: 0.1698 - val_loss: 0.2238\n",
      "Epoch 46/50\n",
      "272/272 [==============================] - 109s 400ms/step - loss: 0.1679 - val_loss: 0.2216\n",
      "Epoch 47/50\n",
      "272/272 [==============================] - 110s 404ms/step - loss: 0.1603 - val_loss: 0.2179\n",
      "Epoch 48/50\n",
      "272/272 [==============================] - 120s 440ms/step - loss: 0.1585 - val_loss: 0.2177\n",
      "Epoch 49/50\n",
      "272/272 [==============================] - 110s 404ms/step - loss: 0.1577 - val_loss: 0.2171\n",
      "Epoch 50/50\n",
      "272/272 [==============================] - 110s 405ms/step - loss: 0.1570 - val_loss: 0.2170\n"
     ]
    },
    {
     "data": {
      "text/plain": [
       "<tensorflow.python.keras.callbacks.History at 0x7f4ce094b2d0>"
      ]
     },
     "execution_count": 44,
     "metadata": {
      "tags": []
     },
     "output_type": "execute_result"
    }
   ],
   "source": [
    "# Compile the model and fit the model\n",
    "\n",
    "tf.keras.backend.clear_session()\n",
    "model = encoder_decoder(batch_size=1024,score_fun=\"general\")\n",
    "optimizer = tf.keras.optimizers.Adam(0.001)\n",
    "\n",
    "model.compile(optimizer=optimizer,loss=loss_function)\n",
    "model.fit_generator(train_dataloader,steps_per_epoch=train_steps,epochs=50,validation_data=test_dataloader,validation_steps=test_steps,callbacks=callbacks)\n"
   ]
  },
  {
   "cell_type": "markdown",
   "metadata": {
    "id": "paRO949bPx3E"
   },
   "source": [
    "#### Plot Attention Weights"
   ]
  },
  {
   "cell_type": "code",
   "execution_count": null,
   "metadata": {
    "colab": {
     "base_uri": "https://localhost:8080/",
     "height": 1000
    },
    "id": "Sf4qnxv-QMeb",
    "outputId": "fc34fad2-29fb-4119-879e-1b436bbe6f0c"
   },
   "outputs": [
    {
     "data": {
      "image/png": "[encoded data removed]",
      "text/plain": [
       "<Figure size 720x720 with 2 Axes>"
      ]
     },
     "metadata": {
      "needs_background": "light",
      "tags": []
     },
     "output_type": "display_data"
    },
    {
     "data": {
      "image/png": "[encoded data removed]",
      "text/plain": [
       "<Figure size 720x720 with 2 Axes>"
      ]
     },
     "metadata": {
      "needs_background": "light",
      "tags": []
     },
     "output_type": "display_data"
    },
    {
     "data": {
      "image/png": "[encoded data removed]",
      "text/plain": [
       "<Figure size 720x720 with 2 Axes>"
      ]
     },
     "metadata": {
      "needs_background": "light",
      "tags": []
     },
     "output_type": "display_data"
    }
   ],
   "source": [
    "# plotting attention weight matrix for 3 random test samples\n",
    "\n",
    "for i in range(3):\n",
    "  temp_df = df_test.sample(1)\n",
    "  test_input = temp_df['itl'].values[0]\n",
    "  plot_attention(test_input)"
   ]
  },
  {
   "cell_type": "markdown",
   "metadata": {
    "id": "fZ9EAaghP12v"
   },
   "source": [
    "#### Compute Bleu Score"
   ]
  },
  {
   "cell_type": "code",
   "execution_count": null,
   "metadata": {
    "colab": {
     "base_uri": "https://localhost:8080/"
    },
    "id": "Piprvu36QSSi",
    "outputId": "1a8f7f67-c961-40a2-b8d5-e5ac61390500"
   },
   "outputs": [
    {
     "name": "stdout",
     "output_type": "stream",
     "text": [
      "Average Blue Score for 1000 test samples: 0.7786469406421939\n"
     ]
    }
   ],
   "source": [
    "all_scores, avg_score = test_bleu(1000,df_test)\n",
    "print(f'Average Blue Score for 1000 test samples: {avg_score}')"
   ]
  },
  {
   "cell_type": "code",
   "execution_count": null,
   "metadata": {
    "colab": {
     "base_uri": "https://localhost:8080/",
     "height": 404
    },
    "id": "jVzKG1skQV4V",
    "outputId": "75abb9d9-62f1-4ecb-d12c-d468aba6cad5"
   },
   "outputs": [
    {
     "data": {
      "image/png": "[encoded data removed]",
      "text/plain": [
       "<Figure size 576x432 with 1 Axes>"
      ]
     },
     "metadata": {
      "needs_background": "light",
      "tags": []
     },
     "output_type": "display_data"
    }
   ],
   "source": [
    "# plotting distribution of Bleu Score \n",
    "plt.figure(figsize=(8,6))\n",
    "plt.title(\"Distribution of Bleu Scores: 1000 samples\")\n",
    "plt.xlabel(\"Bleu Score\")\n",
    "sns.histplot(all_scores)\n",
    "plt.show()"
   ]
  },
  {
   "cell_type": "markdown",
   "metadata": {
    "id": "VB1jRUqZQ9AM"
   },
   "source": [
    "### Training -  Concat Scoring"
   ]
  },
  {
   "cell_type": "code",
   "execution_count": null,
   "metadata": {
    "colab": {
     "base_uri": "https://localhost:8080/"
    },
    "id": "uZ8hvRqhDMmM",
    "outputId": "31c1cd54-cf94-45e9-a27c-50417d9dfde3"
   },
   "outputs": [
    {
     "name": "stdout",
     "output_type": "stream",
     "text": [
      "(1024, 20) (1024, 20) (1024, 20)\n"
     ]
    }
   ],
   "source": [
    "# train and test data loader\n",
    "\n",
    "train_dataset = Dataset(df_train,tokenizer_itl,tokenizer_eng,20)\n",
    "test_dataset = Dataset(df_test,tokenizer_itl,tokenizer_eng,20)\n",
    "\n",
    "train_dataloader = Dataloder(train_dataset,batch_size=1024)\n",
    "test_dataloader = Dataloder(test_dataset,batch_size=1024)\n",
    "\n",
    "print(train_dataloader[0][0][0].shape, train_dataloader[0][0][1].shape, train_dataloader[0][1].shape)"
   ]
  },
  {
   "cell_type": "code",
   "execution_count": null,
   "metadata": {
    "id": "Fg3-2kbcDSNV"
   },
   "outputs": [],
   "source": [
    "train_steps = df_train.shape[0] // 1024\n",
    "test_steps = df_test.shape[0] // 1024"
   ]
  },
  {
   "cell_type": "code",
   "execution_count": null,
   "metadata": {
    "id": "BT4Gt2bCDU7X"
   },
   "outputs": [],
   "source": [
    "# defining callbacks\n",
    "\n",
    "from tensorflow.keras.callbacks import EarlyStopping, ReduceLROnPlateau\n",
    "\n",
    "early_stop = EarlyStopping(monitor=\"val_loss\",patience=2,mode=\"min\")\n",
    "reduce_lr = ReduceLROnPlateau(monitor='val_loss',patience=5,min_delta=0.005,min_lr=1e-8)\n",
    "tensorboard = tf_callback(model_num=4)\n",
    "callbacks = [early_stop,tensorboard, reduce_lr]"
   ]
  },
  {
   "cell_type": "code",
   "execution_count": null,
   "metadata": {
    "colab": {
     "base_uri": "https://localhost:8080/"
    },
    "id": "AKHaOpP-DYWu",
    "outputId": "a6716e85-b27b-47ac-a350-1ebf24cf3fdb"
   },
   "outputs": [
    {
     "name": "stdout",
     "output_type": "stream",
     "text": [
      "Epoch 1/50\n",
      "272/272 [==============================] - 128s 445ms/step - loss: 2.0168 - val_loss: 1.6869\n",
      "Epoch 2/50\n",
      "272/272 [==============================] - 117s 431ms/step - loss: 1.5349 - val_loss: 1.3695\n",
      "Epoch 3/50\n",
      "272/272 [==============================] - 118s 432ms/step - loss: 1.2596 - val_loss: 1.1462\n",
      "Epoch 4/50\n",
      "272/272 [==============================] - 118s 433ms/step - loss: 1.0684 - val_loss: 0.9813\n",
      "Epoch 5/50\n",
      "272/272 [==============================] - 118s 433ms/step - loss: 0.9117 - val_loss: 0.8333\n",
      "Epoch 6/50\n",
      "272/272 [==============================] - 118s 435ms/step - loss: 0.7868 - val_loss: 0.7268\n",
      "Epoch 7/50\n",
      "272/272 [==============================] - 117s 431ms/step - loss: 0.6883 - val_loss: 0.6401\n",
      "Epoch 8/50\n",
      "272/272 [==============================] - 117s 431ms/step - loss: 0.6105 - val_loss: 0.5767\n",
      "Epoch 9/50\n",
      "272/272 [==============================] - 117s 431ms/step - loss: 0.5486 - val_loss: 0.5235\n",
      "Epoch 10/50\n",
      "272/272 [==============================] - 117s 431ms/step - loss: 0.4993 - val_loss: 0.4858\n",
      "Epoch 11/50\n",
      "272/272 [==============================] - 117s 430ms/step - loss: 0.4590 - val_loss: 0.4483\n",
      "Epoch 12/50\n",
      "272/272 [==============================] - 118s 434ms/step - loss: 0.4259 - val_loss: 0.4287\n",
      "Epoch 13/50\n",
      "272/272 [==============================] - 118s 434ms/step - loss: 0.3983 - val_loss: 0.4154\n",
      "Epoch 14/50\n",
      "272/272 [==============================] - 117s 431ms/step - loss: 0.3746 - val_loss: 0.3855\n",
      "Epoch 15/50\n",
      "272/272 [==============================] - 117s 430ms/step - loss: 0.3541 - val_loss: 0.3851\n",
      "Epoch 16/50\n",
      "272/272 [==============================] - 117s 431ms/step - loss: 0.3357 - val_loss: 0.3650\n",
      "Epoch 17/50\n",
      "272/272 [==============================] - 118s 432ms/step - loss: 0.3205 - val_loss: 0.3507\n",
      "Epoch 18/50\n",
      "272/272 [==============================] - 117s 432ms/step - loss: 0.3063 - val_loss: 0.3436\n",
      "Epoch 19/50\n",
      "272/272 [==============================] - 117s 431ms/step - loss: 0.2940 - val_loss: 0.3449\n",
      "Epoch 20/50\n",
      "272/272 [==============================] - 116s 427ms/step - loss: 0.2831 - val_loss: 0.3355\n",
      "Epoch 21/50\n",
      "272/272 [==============================] - 120s 440ms/step - loss: 0.2731 - val_loss: 0.3239\n",
      "Epoch 22/50\n",
      "272/272 [==============================] - 118s 433ms/step - loss: 0.2641 - val_loss: 0.3213\n",
      "Epoch 23/50\n",
      "272/272 [==============================] - 119s 436ms/step - loss: 0.2562 - val_loss: 0.3152\n",
      "Epoch 24/50\n",
      "272/272 [==============================] - 118s 432ms/step - loss: 0.2487 - val_loss: 0.3002\n",
      "Epoch 25/50\n",
      "272/272 [==============================] - 118s 432ms/step - loss: 0.2418 - val_loss: 0.3043\n",
      "Epoch 26/50\n",
      "272/272 [==============================] - 117s 430ms/step - loss: 0.2355 - val_loss: 0.2983\n",
      "Epoch 27/50\n",
      "272/272 [==============================] - 117s 431ms/step - loss: 0.2295 - val_loss: 0.2889\n",
      "Epoch 28/50\n",
      "272/272 [==============================] - 118s 435ms/step - loss: 0.2243 - val_loss: 0.2888\n",
      "Epoch 29/50\n",
      "272/272 [==============================] - 117s 431ms/step - loss: 0.2195 - val_loss: 0.2870\n",
      "Epoch 30/50\n",
      "272/272 [==============================] - 117s 431ms/step - loss: 0.2148 - val_loss: 0.2826\n",
      "Epoch 31/50\n",
      "272/272 [==============================] - 117s 431ms/step - loss: 0.2107 - val_loss: 0.2738\n",
      "Epoch 32/50\n",
      "272/272 [==============================] - 116s 428ms/step - loss: 0.2069 - val_loss: 0.2790\n",
      "Epoch 33/50\n",
      "272/272 [==============================] - 126s 463ms/step - loss: 0.2029 - val_loss: 0.2729\n",
      "Epoch 34/50\n",
      "272/272 [==============================] - 116s 428ms/step - loss: 0.1996 - val_loss: 0.2636\n",
      "Epoch 35/50\n",
      "272/272 [==============================] - 117s 430ms/step - loss: 0.1961 - val_loss: 0.2673\n",
      "Epoch 36/50\n",
      "272/272 [==============================] - 116s 427ms/step - loss: 0.1929 - val_loss: 0.2677\n"
     ]
    },
    {
     "data": {
      "text/plain": [
       "<tensorflow.python.keras.callbacks.History at 0x7fde820c5d10>"
      ]
     },
     "execution_count": 42,
     "metadata": {
      "tags": []
     },
     "output_type": "execute_result"
    }
   ],
   "source": [
    "# Compile the model and fit the model\n",
    "\n",
    "tf.keras.backend.clear_session()\n",
    "model = encoder_decoder(batch_size=1024,score_fun=\"concat\")\n",
    "optimizer = tf.keras.optimizers.Adam(0.001)\n",
    "\n",
    "model.compile(optimizer=optimizer,loss=loss_function)\n",
    "model.fit_generator(train_dataloader,steps_per_epoch=train_steps,epochs=50,validation_data=test_dataloader,validation_steps=test_steps,callbacks=callbacks)\n"
   ]
  },
  {
   "cell_type": "markdown",
   "metadata": {
    "id": "KcPS8ILADEmH"
   },
   "source": [
    "#### Plot Attention Weights"
   ]
  },
  {
   "cell_type": "code",
   "execution_count": null,
   "metadata": {
    "colab": {
     "base_uri": "https://localhost:8080/",
     "height": 1000
    },
    "id": "dEwjQviXDfCm",
    "outputId": "5939ddc1-ba61-45ab-fa4b-79b24a962129"
   },
   "outputs": [
    {
     "data": {
      "image/png": "[encoded data removed]",
      "text/plain": [
       "<Figure size 720x720 with 2 Axes>"
      ]
     },
     "metadata": {
      "needs_background": "light",
      "tags": []
     },
     "output_type": "display_data"
    },
    {
     "data": {
      "image/png": "[encoded data removed]",
      "text/plain": [
       "<Figure size 720x720 with 2 Axes>"
      ]
     },
     "metadata": {
      "needs_background": "light",
      "tags": []
     },
     "output_type": "display_data"
    },
    {
     "data": {
      "image/png": "[encoded data removed]",
      "text/plain": [
       "<Figure size 720x720 with 2 Axes>"
      ]
     },
     "metadata": {
      "needs_background": "light",
      "tags": []
     },
     "output_type": "display_data"
    }
   ],
   "source": [
    "# plotting attention weight matrix for 3 random test samples\n",
    "\n",
    "for i in range(3):\n",
    "  temp_df = df_test.sample(1)\n",
    "  test_input = temp_df['itl'].values[0]\n",
    "  plot_attention(test_input)"
   ]
  },
  {
   "cell_type": "markdown",
   "metadata": {
    "id": "GbJYWeueDIBO"
   },
   "source": [
    "#### Compute Bleu Score"
   ]
  },
  {
   "cell_type": "code",
   "execution_count": null,
   "metadata": {
    "colab": {
     "base_uri": "https://localhost:8080/"
    },
    "id": "stwuvqcTDnzV",
    "outputId": "810950d6-b945-4613-a0f2-b9b5ffc7eedd"
   },
   "outputs": [
    {
     "name": "stdout",
     "output_type": "stream",
     "text": [
      "Average Blue Score for 1000 test samples: 0.726438700639773\n"
     ]
    }
   ],
   "source": [
    "all_scores, avg_score = test_bleu(1000,df_test)\n",
    "print(f'Average Blue Score for 1000 test samples: {avg_score}')"
   ]
  },
  {
   "cell_type": "code",
   "execution_count": null,
   "metadata": {
    "colab": {
     "base_uri": "https://localhost:8080/",
     "height": 404
    },
    "id": "sA70dLCEDp26",
    "outputId": "f3445050-170c-4f0b-b56c-295d9bd633a1"
   },
   "outputs": [
    {
     "data": {
      "image/png": "[encoded data removed]",
      "text/plain": [
       "<Figure size 576x432 with 1 Axes>"
      ]
     },
     "metadata": {
      "needs_background": "light",
      "tags": []
     },
     "output_type": "display_data"
    }
   ],
   "source": [
    "# plotting distribution of Bleu Score \n",
    "plt.figure(figsize=(8,6))\n",
    "plt.title(\"Distribution of Bleu Scores: 1000 samples\")\n",
    "plt.xlabel(\"Bleu Score\")\n",
    "sns.histplot(all_scores)\n",
    "plt.show()"
   ]
  }
 ],
 "metadata": {
  "accelerator": "GPU",
  "colab": {
   "collapsed_sections": [],
   "name": "Seq2SeqImplementation__Assignment.ipynb",
   "provenance": []
  },
  "kernelspec": {
   "display_name": "Python 3",
   "language": "python",
   "name": "python3"
  },
  "language_info": {
   "codemirror_mode": {
    "name": "ipython",
    "version": 3
   },
   "file_extension": ".py",
   "mimetype": "text/x-python",
   "name": "python",
   "nbconvert_exporter": "python",
   "pygments_lexer": "ipython3",
   "version": "3.8.5"
  }
 },
 "nbformat": 4,
 "nbformat_minor": 1
}
